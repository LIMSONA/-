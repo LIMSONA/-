{
 "cells": [
  {
   "cell_type": "markdown",
   "id": "591dcbee",
   "metadata": {},
   "source": [
    "# 라이브러리 불러오기"
   ]
  },
  {
   "cell_type": "code",
   "execution_count": 1,
   "id": "cca27867",
   "metadata": {},
   "outputs": [],
   "source": [
    "import pandas as pd\n",
    "import numpy as np\n",
    "import os"
   ]
  },
  {
   "cell_type": "code",
   "execution_count": 2,
   "id": "063fc29f",
   "metadata": {},
   "outputs": [],
   "source": [
    "import warnings\n",
    "warnings.filterwarnings(\"ignore\")"
   ]
  },
  {
   "cell_type": "markdown",
   "id": "f4a4d2fd",
   "metadata": {},
   "source": [
    "# 폴더/파일 살펴보고 지정하기"
   ]
  },
  {
   "cell_type": "markdown",
   "id": "495908af",
   "metadata": {},
   "source": [
    "## 메인"
   ]
  },
  {
   "cell_type": "code",
   "execution_count": 3,
   "id": "b6f5f42d",
   "metadata": {},
   "outputs": [
    {
     "data": {
      "text/plain": [
       "['.ipynb_checkpoints',\n",
       " 'main.ipynb',\n",
       " '서울특별시 공공자전거 이용정보(시간대별)_2019년',\n",
       " '서울특별시 공공자전거 이용정보(시간대별)_2020년',\n",
       " '서울특별시 공공자전거 이용정보(시간대별)_2021년']"
      ]
     },
     "execution_count": 3,
     "metadata": {},
     "output_type": "execute_result"
    }
   ],
   "source": [
    "os.listdir()"
   ]
  },
  {
   "cell_type": "code",
   "execution_count": 4,
   "id": "7cf04549",
   "metadata": {},
   "outputs": [
    {
     "data": {
      "text/plain": [
       "['서울특별시 공공자전거 이용정보(시간대별)_2019년',\n",
       " '서울특별시 공공자전거 이용정보(시간대별)_2020년',\n",
       " '서울특별시 공공자전거 이용정보(시간대별)_2021년']"
      ]
     },
     "execution_count": 4,
     "metadata": {},
     "output_type": "execute_result"
    }
   ],
   "source": [
    "folder=os.listdir()[2:]\n",
    "folder"
   ]
  },
  {
   "cell_type": "markdown",
   "id": "95961bba",
   "metadata": {},
   "source": [
    "## 2019"
   ]
  },
  {
   "cell_type": "code",
   "execution_count": 5,
   "id": "6a806a32",
   "metadata": {},
   "outputs": [
    {
     "data": {
      "text/plain": [
       "['서울특별시 공공자전거 이용정보(시간대별)_19.01.csv',\n",
       " '서울특별시 공공자전거 이용정보(시간대별)_19.02.csv',\n",
       " '서울특별시 공공자전거 이용정보(시간대별)_19.03.csv',\n",
       " '서울특별시 공공자전거 이용정보(시간대별)_19.04.csv',\n",
       " '서울특별시 공공자전거 이용정보(시간대별)_19.05.csv',\n",
       " '서울특별시 공공자전거 이용정보(시간대별)_19.06.csv',\n",
       " '서울특별시 공공자전거 이용정보(시간대별)_19.07.csv',\n",
       " '서울특별시 공공자전거 이용정보(시간대별)_19.08.csv',\n",
       " '서울특별시 공공자전거 이용정보(시간대별)_19.09.csv',\n",
       " '서울특별시 공공자전거 이용정보(시간대별)_19.10.csv',\n",
       " '서울특별시 공공자전거 이용정보(시간대별)_19.11.csv',\n",
       " '서울특별시 공공자전거 이용정보(시간대별)_19.12.csv']"
      ]
     },
     "execution_count": 5,
     "metadata": {},
     "output_type": "execute_result"
    }
   ],
   "source": [
    "folder_2019= os.listdir(folder[0])\n",
    "folder_2019"
   ]
  },
  {
   "cell_type": "code",
   "execution_count": 6,
   "id": "9b307049",
   "metadata": {
    "scrolled": true
   },
   "outputs": [
    {
     "data": {
      "text/plain": [
       "['서울특별시 공공자전거 이용정보(시간대별)_19.01.csv',\n",
       " '서울특별시 공공자전거 이용정보(시간대별)_19.02.csv',\n",
       " '서울특별시 공공자전거 이용정보(시간대별)_19.03.csv']"
      ]
     },
     "execution_count": 6,
     "metadata": {},
     "output_type": "execute_result"
    }
   ],
   "source": [
    "files_2019= folder_2019[:3]\n",
    "files_2019"
   ]
  },
  {
   "cell_type": "markdown",
   "id": "6d179159",
   "metadata": {},
   "source": [
    "## 2020"
   ]
  },
  {
   "cell_type": "code",
   "execution_count": 7,
   "id": "528c1d5f",
   "metadata": {},
   "outputs": [
    {
     "data": {
      "text/plain": [
       "['서울특별시 공공자전거 이용정보(시간대별)_20.01.csv',\n",
       " '서울특별시 공공자전거 이용정보(시간대별)_20.02.csv',\n",
       " '서울특별시 공공자전거 이용정보(시간대별)_20.03.csv',\n",
       " '서울특별시 공공자전거 이용정보(시간대별)_20.04.csv',\n",
       " '서울특별시 공공자전거 이용정보(시간대별)_20.05.csv',\n",
       " '서울특별시 공공자전거 이용정보(시간대별)_20.06.csv',\n",
       " '서울특별시 공공자전거 이용정보(시간대별)_20.07.csv',\n",
       " '서울특별시 공공자전거 이용정보(시간대별)_20.08.csv',\n",
       " '서울특별시 공공자전거 이용정보(시간대별)_20.09.csv',\n",
       " '서울특별시 공공자전거 이용정보(시간대별)_20.10.csv',\n",
       " '서울특별시 공공자전거 이용정보(시간대별)_20.11.csv',\n",
       " '서울특별시 공공자전거 이용정보(시간대별)_20.12.csv']"
      ]
     },
     "execution_count": 7,
     "metadata": {},
     "output_type": "execute_result"
    }
   ],
   "source": [
    "folder_2020= os.listdir(folder[1])\n",
    "folder_2020"
   ]
  },
  {
   "cell_type": "code",
   "execution_count": 8,
   "id": "bd9e54c9",
   "metadata": {
    "scrolled": true
   },
   "outputs": [
    {
     "data": {
      "text/plain": [
       "['서울특별시 공공자전거 이용정보(시간대별)_20.01.csv',\n",
       " '서울특별시 공공자전거 이용정보(시간대별)_20.02.csv',\n",
       " '서울특별시 공공자전거 이용정보(시간대별)_20.03.csv']"
      ]
     },
     "execution_count": 8,
     "metadata": {},
     "output_type": "execute_result"
    }
   ],
   "source": [
    "files_2020= folder_2020[:3]\n",
    "files_2020"
   ]
  },
  {
   "cell_type": "markdown",
   "id": "18675738",
   "metadata": {},
   "source": [
    "## 2021"
   ]
  },
  {
   "cell_type": "code",
   "execution_count": 9,
   "id": "ca147232",
   "metadata": {},
   "outputs": [
    {
     "data": {
      "text/plain": [
       "['서울특별시 공공자전거 이용정보(시간대별)_21.01.csv',\n",
       " '서울특별시 공공자전거 이용정보(시간대별)_21.02.csv',\n",
       " '서울특별시 공공자전거 이용정보(시간대별)_21.03.csv',\n",
       " '서울특별시 공공자전거 이용정보(시간대별)_21.04.csv',\n",
       " '서울특별시 공공자전거 이용정보(시간대별)_21.05.csv',\n",
       " '서울특별시 공공자전거 이용정보(시간대별)_21.06.csv',\n",
       " '서울특별시 공공자전거 이용정보(시간대별)_21.07.csv',\n",
       " '서울특별시 공공자전거 이용정보(시간대별)_21.08.csv',\n",
       " '서울특별시 공공자전거 이용정보(시간대별)_21.09.csv',\n",
       " '서울특별시 공공자전거 이용정보(시간대별)_21.10.csv',\n",
       " '서울특별시 공공자전거 이용정보(시간대별)_21.11.csv',\n",
       " '서울특별시 공공자전거 이용정보(시간대별)_21.12.csv']"
      ]
     },
     "execution_count": 9,
     "metadata": {},
     "output_type": "execute_result"
    }
   ],
   "source": [
    "folder_2021= os.listdir(folder[2])\n",
    "folder_2021"
   ]
  },
  {
   "cell_type": "code",
   "execution_count": 10,
   "id": "cc067fbd",
   "metadata": {
    "scrolled": true
   },
   "outputs": [
    {
     "data": {
      "text/plain": [
       "['서울특별시 공공자전거 이용정보(시간대별)_21.01.csv',\n",
       " '서울특별시 공공자전거 이용정보(시간대별)_21.02.csv',\n",
       " '서울특별시 공공자전거 이용정보(시간대별)_21.03.csv']"
      ]
     },
     "execution_count": 10,
     "metadata": {},
     "output_type": "execute_result"
    }
   ],
   "source": [
    "files_2021= folder_2021[:3]\n",
    "files_2021"
   ]
  },
  {
   "cell_type": "markdown",
   "id": "36151633",
   "metadata": {},
   "source": [
    "# 파일 불러오기"
   ]
  },
  {
   "cell_type": "markdown",
   "id": "178b7966",
   "metadata": {},
   "source": [
    "## 2019 통합"
   ]
  },
  {
   "cell_type": "code",
   "execution_count": 11,
   "id": "f52901b0",
   "metadata": {},
   "outputs": [
    {
     "data": {
      "text/plain": [
       "'서울특별시 공공자전거 이용정보(시간대별)_2019년/서울특별시 공공자전거 이용정보(시간대별)_19.01.csv'"
      ]
     },
     "execution_count": 11,
     "metadata": {},
     "output_type": "execute_result"
    }
   ],
   "source": [
    "folder[0]+'/'+files_2019[0]"
   ]
  },
  {
   "cell_type": "code",
   "execution_count": 22,
   "id": "e6a59e8a",
   "metadata": {},
   "outputs": [
    {
     "data": {
      "text/html": [
       "<div>\n",
       "<style scoped>\n",
       "    .dataframe tbody tr th:only-of-type {\n",
       "        vertical-align: middle;\n",
       "    }\n",
       "\n",
       "    .dataframe tbody tr th {\n",
       "        vertical-align: top;\n",
       "    }\n",
       "\n",
       "    .dataframe thead th {\n",
       "        text-align: right;\n",
       "    }\n",
       "</style>\n",
       "<table border=\"1\" class=\"dataframe\">\n",
       "  <thead>\n",
       "    <tr style=\"text-align: right;\">\n",
       "      <th></th>\n",
       "      <th>대여일자</th>\n",
       "      <th>대여시간</th>\n",
       "      <th>대여소번호</th>\n",
       "      <th>대여소명</th>\n",
       "      <th>대여구분코드</th>\n",
       "      <th>성별</th>\n",
       "      <th>연령대코드</th>\n",
       "      <th>이용건수</th>\n",
       "      <th>운동량</th>\n",
       "      <th>탄소량</th>\n",
       "      <th>이동거리</th>\n",
       "      <th>사용시간</th>\n",
       "    </tr>\n",
       "  </thead>\n",
       "  <tbody>\n",
       "    <tr>\n",
       "      <th>0</th>\n",
       "      <td>2019-01-01</td>\n",
       "      <td>0</td>\n",
       "      <td>458</td>\n",
       "      <td>458. 광화문역 5번출구</td>\n",
       "      <td>정기권</td>\n",
       "      <td>F</td>\n",
       "      <td>~10대</td>\n",
       "      <td>1</td>\n",
       "      <td>41.96</td>\n",
       "      <td>0.38</td>\n",
       "      <td>1630.0</td>\n",
       "      <td>29</td>\n",
       "    </tr>\n",
       "    <tr>\n",
       "      <th>1</th>\n",
       "      <td>2019-01-01</td>\n",
       "      <td>0</td>\n",
       "      <td>2159</td>\n",
       "      <td>2159. 인헌초교</td>\n",
       "      <td>정기권</td>\n",
       "      <td>F</td>\n",
       "      <td>20대</td>\n",
       "      <td>1</td>\n",
       "      <td>27.23</td>\n",
       "      <td>0.29</td>\n",
       "      <td>1250.0</td>\n",
       "      <td>7</td>\n",
       "    </tr>\n",
       "    <tr>\n",
       "      <th>2</th>\n",
       "      <td>2019-01-01</td>\n",
       "      <td>0</td>\n",
       "      <td>1362</td>\n",
       "      <td>1362. 보문역6번출구 앞</td>\n",
       "      <td>정기권</td>\n",
       "      <td>F</td>\n",
       "      <td>20대</td>\n",
       "      <td>1</td>\n",
       "      <td>20.18</td>\n",
       "      <td>0.23</td>\n",
       "      <td>980.0</td>\n",
       "      <td>5</td>\n",
       "    </tr>\n",
       "    <tr>\n",
       "      <th>3</th>\n",
       "      <td>2019-01-01</td>\n",
       "      <td>0</td>\n",
       "      <td>3106</td>\n",
       "      <td>3106. 홍남교 두바퀴쉼터</td>\n",
       "      <td>정기권</td>\n",
       "      <td>F</td>\n",
       "      <td>20대</td>\n",
       "      <td>1</td>\n",
       "      <td>7.48</td>\n",
       "      <td>0.1</td>\n",
       "      <td>420.0</td>\n",
       "      <td>4</td>\n",
       "    </tr>\n",
       "    <tr>\n",
       "      <th>4</th>\n",
       "      <td>2019-01-01</td>\n",
       "      <td>0</td>\n",
       "      <td>118</td>\n",
       "      <td>118. 광흥창역 2번출구 앞</td>\n",
       "      <td>정기권</td>\n",
       "      <td>F</td>\n",
       "      <td>20대</td>\n",
       "      <td>1</td>\n",
       "      <td>25.7</td>\n",
       "      <td>0.26</td>\n",
       "      <td>1100.0</td>\n",
       "      <td>7</td>\n",
       "    </tr>\n",
       "    <tr>\n",
       "      <th>...</th>\n",
       "      <td>...</td>\n",
       "      <td>...</td>\n",
       "      <td>...</td>\n",
       "      <td>...</td>\n",
       "      <td>...</td>\n",
       "      <td>...</td>\n",
       "      <td>...</td>\n",
       "      <td>...</td>\n",
       "      <td>...</td>\n",
       "      <td>...</td>\n",
       "      <td>...</td>\n",
       "      <td>...</td>\n",
       "    </tr>\n",
       "    <tr>\n",
       "      <th>532330</th>\n",
       "      <td>2019-03-31</td>\n",
       "      <td>23</td>\n",
       "      <td>103</td>\n",
       "      <td>103. 망원역 2번출구 앞</td>\n",
       "      <td>일일권</td>\n",
       "      <td>M</td>\n",
       "      <td>30대</td>\n",
       "      <td>1</td>\n",
       "      <td>91.59</td>\n",
       "      <td>0.6</td>\n",
       "      <td>2570.0</td>\n",
       "      <td>16</td>\n",
       "    </tr>\n",
       "    <tr>\n",
       "      <th>532331</th>\n",
       "      <td>2019-03-31</td>\n",
       "      <td>23</td>\n",
       "      <td>1140</td>\n",
       "      <td>1140. 목동사거리 버스정류장</td>\n",
       "      <td>일일권</td>\n",
       "      <td>M</td>\n",
       "      <td>30대</td>\n",
       "      <td>1</td>\n",
       "      <td>101.25</td>\n",
       "      <td>0.87</td>\n",
       "      <td>3760.0</td>\n",
       "      <td>34</td>\n",
       "    </tr>\n",
       "    <tr>\n",
       "      <th>532332</th>\n",
       "      <td>2019-03-31</td>\n",
       "      <td>23</td>\n",
       "      <td>2119</td>\n",
       "      <td>2119. 중앙동 동진빌딩</td>\n",
       "      <td>일일권</td>\n",
       "      <td>M</td>\n",
       "      <td>30대</td>\n",
       "      <td>1</td>\n",
       "      <td>179.09</td>\n",
       "      <td>1.4</td>\n",
       "      <td>6030.0</td>\n",
       "      <td>39</td>\n",
       "    </tr>\n",
       "    <tr>\n",
       "      <th>532333</th>\n",
       "      <td>2019-03-31</td>\n",
       "      <td>23</td>\n",
       "      <td>638</td>\n",
       "      <td>638. 서울시립대 정보기술관</td>\n",
       "      <td>단체권</td>\n",
       "      <td>NaN</td>\n",
       "      <td>20대</td>\n",
       "      <td>5</td>\n",
       "      <td>351.06</td>\n",
       "      <td>2.74</td>\n",
       "      <td>11820.0</td>\n",
       "      <td>271</td>\n",
       "    </tr>\n",
       "    <tr>\n",
       "      <th>532334</th>\n",
       "      <td>2019-03-31</td>\n",
       "      <td>23</td>\n",
       "      <td>2102</td>\n",
       "      <td>2102. 봉림교 교통섬</td>\n",
       "      <td>단체권</td>\n",
       "      <td>NaN</td>\n",
       "      <td>20대</td>\n",
       "      <td>2</td>\n",
       "      <td>63.06</td>\n",
       "      <td>0.57</td>\n",
       "      <td>2450.0</td>\n",
       "      <td>14</td>\n",
       "    </tr>\n",
       "  </tbody>\n",
       "</table>\n",
       "<p>1102597 rows × 12 columns</p>\n",
       "</div>"
      ],
      "text/plain": [
       "              대여일자  대여시간  대여소번호               대여소명 대여구분코드   성별 연령대코드  이용건수  \\\n",
       "0       2019-01-01     0    458     458. 광화문역 5번출구    정기권    F  ~10대     1   \n",
       "1       2019-01-01     0   2159         2159. 인헌초교    정기권    F   20대     1   \n",
       "2       2019-01-01     0   1362    1362. 보문역6번출구 앞    정기권    F   20대     1   \n",
       "3       2019-01-01     0   3106    3106. 홍남교 두바퀴쉼터    정기권    F   20대     1   \n",
       "4       2019-01-01     0    118   118. 광흥창역 2번출구 앞    정기권    F   20대     1   \n",
       "...            ...   ...    ...                ...    ...  ...   ...   ...   \n",
       "532330  2019-03-31    23    103    103. 망원역 2번출구 앞    일일권    M   30대     1   \n",
       "532331  2019-03-31    23   1140  1140. 목동사거리 버스정류장    일일권    M   30대     1   \n",
       "532332  2019-03-31    23   2119     2119. 중앙동 동진빌딩    일일권    M   30대     1   \n",
       "532333  2019-03-31    23    638   638. 서울시립대 정보기술관    단체권  NaN   20대     5   \n",
       "532334  2019-03-31    23   2102      2102. 봉림교 교통섬    단체권  NaN   20대     2   \n",
       "\n",
       "           운동량   탄소량     이동거리  사용시간  \n",
       "0        41.96  0.38   1630.0    29  \n",
       "1        27.23  0.29   1250.0     7  \n",
       "2        20.18  0.23    980.0     5  \n",
       "3         7.48   0.1    420.0     4  \n",
       "4         25.7  0.26   1100.0     7  \n",
       "...        ...   ...      ...   ...  \n",
       "532330   91.59   0.6   2570.0    16  \n",
       "532331  101.25  0.87   3760.0    34  \n",
       "532332  179.09   1.4   6030.0    39  \n",
       "532333  351.06  2.74  11820.0   271  \n",
       "532334   63.06  0.57   2450.0    14  \n",
       "\n",
       "[1102597 rows x 12 columns]"
      ]
     },
     "execution_count": 22,
     "metadata": {},
     "output_type": "execute_result"
    }
   ],
   "source": [
    "df_2019= pd.concat([pd.read_csv(folder[0]+'/'+files_2019[0]),\n",
    "                    pd.read_csv(folder[0]+'/'+files_2019[1]),\n",
    "                    pd.read_csv(folder[0]+'/'+files_2019[2])],\n",
    "                   axis=0)\n",
    "\n",
    "df_2019"
   ]
  },
  {
   "cell_type": "code",
   "execution_count": 82,
   "id": "09936cb6",
   "metadata": {},
   "outputs": [
    {
     "data": {
      "text/html": [
       "<div>\n",
       "<style scoped>\n",
       "    .dataframe tbody tr th:only-of-type {\n",
       "        vertical-align: middle;\n",
       "    }\n",
       "\n",
       "    .dataframe tbody tr th {\n",
       "        vertical-align: top;\n",
       "    }\n",
       "\n",
       "    .dataframe thead th {\n",
       "        text-align: right;\n",
       "    }\n",
       "</style>\n",
       "<table border=\"1\" class=\"dataframe\">\n",
       "  <thead>\n",
       "    <tr style=\"text-align: right;\">\n",
       "      <th></th>\n",
       "      <th>대여일자</th>\n",
       "      <th>대여시간</th>\n",
       "      <th>대여소번호</th>\n",
       "      <th>대여소명</th>\n",
       "      <th>대여구분코드</th>\n",
       "      <th>연령대코드</th>\n",
       "      <th>이용건수</th>\n",
       "    </tr>\n",
       "  </thead>\n",
       "  <tbody>\n",
       "    <tr>\n",
       "      <th>2603150</th>\n",
       "      <td>2020-03-31</td>\n",
       "      <td>23</td>\n",
       "      <td>232</td>\n",
       "      <td>232. 양평우림 이비즈센타 앞</td>\n",
       "      <td>단체권</td>\n",
       "      <td>50대</td>\n",
       "      <td>1</td>\n",
       "    </tr>\n",
       "    <tr>\n",
       "      <th>2603151</th>\n",
       "      <td>2020-03-31</td>\n",
       "      <td>23</td>\n",
       "      <td>1856</td>\n",
       "      <td>1856. 모두의학교</td>\n",
       "      <td>단체권</td>\n",
       "      <td>20대</td>\n",
       "      <td>2</td>\n",
       "    </tr>\n",
       "    <tr>\n",
       "      <th>2603152</th>\n",
       "      <td>2020-03-31</td>\n",
       "      <td>23</td>\n",
       "      <td>539</td>\n",
       "      <td>539. 군자교교차로</td>\n",
       "      <td>단체권</td>\n",
       "      <td>20대</td>\n",
       "      <td>2</td>\n",
       "    </tr>\n",
       "    <tr>\n",
       "      <th>2603153</th>\n",
       "      <td>2020-03-31</td>\n",
       "      <td>23</td>\n",
       "      <td>232</td>\n",
       "      <td>232. 양평우림 이비즈센타 앞</td>\n",
       "      <td>단체권</td>\n",
       "      <td>20대</td>\n",
       "      <td>1</td>\n",
       "    </tr>\n",
       "    <tr>\n",
       "      <th>2603154</th>\n",
       "      <td>2020-03-31</td>\n",
       "      <td>23</td>\n",
       "      <td>817</td>\n",
       "      <td>817. 삼각지역 4번출구 앞</td>\n",
       "      <td>단체권</td>\n",
       "      <td>20대</td>\n",
       "      <td>2</td>\n",
       "    </tr>\n",
       "  </tbody>\n",
       "</table>\n",
       "</div>"
      ],
      "text/plain": [
       "               대여일자  대여시간  대여소번호               대여소명 대여구분코드 연령대코드  이용건수\n",
       "2603150  2020-03-31    23    232  232. 양평우림 이비즈센타 앞    단체권   50대     1\n",
       "2603151  2020-03-31    23   1856        1856. 모두의학교    단체권   20대     2\n",
       "2603152  2020-03-31    23    539        539. 군자교교차로    단체권   20대     2\n",
       "2603153  2020-03-31    23    232  232. 양평우림 이비즈센타 앞    단체권   20대     1\n",
       "2603154  2020-03-31    23    817   817. 삼각지역 4번출구 앞    단체권   20대     2"
      ]
     },
     "execution_count": 82,
     "metadata": {},
     "output_type": "execute_result"
    }
   ],
   "source": [
    "df_2019 = df_2019.reset_index(drop=True)\n",
    "df_2019.tail()"
   ]
  },
  {
   "cell_type": "code",
   "execution_count": 84,
   "id": "5c14e13a",
   "metadata": {},
   "outputs": [],
   "source": [
    "df_2019.to_csv(\"2019_시간별_이용정보.csv\", encoding=\"cp949\")"
   ]
  },
  {
   "cell_type": "markdown",
   "id": "8734b494",
   "metadata": {},
   "source": [
    "## 2020 통합"
   ]
  },
  {
   "cell_type": "code",
   "execution_count": 13,
   "id": "97ae1bd1",
   "metadata": {},
   "outputs": [
    {
     "data": {
      "text/html": [
       "<div>\n",
       "<style scoped>\n",
       "    .dataframe tbody tr th:only-of-type {\n",
       "        vertical-align: middle;\n",
       "    }\n",
       "\n",
       "    .dataframe tbody tr th {\n",
       "        vertical-align: top;\n",
       "    }\n",
       "\n",
       "    .dataframe thead th {\n",
       "        text-align: right;\n",
       "    }\n",
       "</style>\n",
       "<table border=\"1\" class=\"dataframe\">\n",
       "  <thead>\n",
       "    <tr style=\"text-align: right;\">\n",
       "      <th></th>\n",
       "      <th>대여일자</th>\n",
       "      <th>대여시간</th>\n",
       "      <th>대여소번호</th>\n",
       "      <th>대여소명</th>\n",
       "      <th>대여구분코드</th>\n",
       "      <th>성별</th>\n",
       "      <th>연령대코드</th>\n",
       "      <th>이용건수</th>\n",
       "      <th>운동량</th>\n",
       "      <th>탄소량</th>\n",
       "      <th>이동거리</th>\n",
       "      <th>사용시간</th>\n",
       "    </tr>\n",
       "  </thead>\n",
       "  <tbody>\n",
       "    <tr>\n",
       "      <th>0</th>\n",
       "      <td>2020-01-01</td>\n",
       "      <td>0</td>\n",
       "      <td>1044</td>\n",
       "      <td>1044. 굽은다리역</td>\n",
       "      <td>정기권</td>\n",
       "      <td>NaN</td>\n",
       "      <td>~10대</td>\n",
       "      <td>1</td>\n",
       "      <td>33.96</td>\n",
       "      <td>0.30</td>\n",
       "      <td>1280.0</td>\n",
       "      <td>6</td>\n",
       "    </tr>\n",
       "    <tr>\n",
       "      <th>1</th>\n",
       "      <td>2020-01-01</td>\n",
       "      <td>0</td>\n",
       "      <td>1656</td>\n",
       "      <td>1656. 중앙하이츠 아파트 입구</td>\n",
       "      <td>정기권</td>\n",
       "      <td>NaN</td>\n",
       "      <td>~10대</td>\n",
       "      <td>1</td>\n",
       "      <td>40.15</td>\n",
       "      <td>0.39</td>\n",
       "      <td>1690.0</td>\n",
       "      <td>6</td>\n",
       "    </tr>\n",
       "    <tr>\n",
       "      <th>2</th>\n",
       "      <td>2020-01-01</td>\n",
       "      <td>0</td>\n",
       "      <td>1337</td>\n",
       "      <td>1337. 돈암성당 옆</td>\n",
       "      <td>정기권</td>\n",
       "      <td>NaN</td>\n",
       "      <td>~10대</td>\n",
       "      <td>1</td>\n",
       "      <td>80.88</td>\n",
       "      <td>0.50</td>\n",
       "      <td>2150.0</td>\n",
       "      <td>12</td>\n",
       "    </tr>\n",
       "    <tr>\n",
       "      <th>3</th>\n",
       "      <td>2020-01-01</td>\n",
       "      <td>0</td>\n",
       "      <td>1984</td>\n",
       "      <td>1984. 구로구청</td>\n",
       "      <td>정기권</td>\n",
       "      <td>NaN</td>\n",
       "      <td>~10대</td>\n",
       "      <td>1</td>\n",
       "      <td>47.36</td>\n",
       "      <td>0.43</td>\n",
       "      <td>1840.0</td>\n",
       "      <td>25</td>\n",
       "    </tr>\n",
       "    <tr>\n",
       "      <th>4</th>\n",
       "      <td>2020-01-01</td>\n",
       "      <td>0</td>\n",
       "      <td>2601</td>\n",
       "      <td>2601. 석촌호수 서호사거리</td>\n",
       "      <td>정기권</td>\n",
       "      <td>NaN</td>\n",
       "      <td>~10대</td>\n",
       "      <td>1</td>\n",
       "      <td>29.34</td>\n",
       "      <td>0.26</td>\n",
       "      <td>1140.0</td>\n",
       "      <td>5</td>\n",
       "    </tr>\n",
       "    <tr>\n",
       "      <th>...</th>\n",
       "      <td>...</td>\n",
       "      <td>...</td>\n",
       "      <td>...</td>\n",
       "      <td>...</td>\n",
       "      <td>...</td>\n",
       "      <td>...</td>\n",
       "      <td>...</td>\n",
       "      <td>...</td>\n",
       "      <td>...</td>\n",
       "      <td>...</td>\n",
       "      <td>...</td>\n",
       "      <td>...</td>\n",
       "    </tr>\n",
       "    <tr>\n",
       "      <th>1222517</th>\n",
       "      <td>2020-03-31</td>\n",
       "      <td>23</td>\n",
       "      <td>232</td>\n",
       "      <td>232. 양평우림 이비즈센타 앞</td>\n",
       "      <td>단체권</td>\n",
       "      <td>NaN</td>\n",
       "      <td>50대</td>\n",
       "      <td>1</td>\n",
       "      <td>346.72</td>\n",
       "      <td>3.13</td>\n",
       "      <td>13470.0</td>\n",
       "      <td>64</td>\n",
       "    </tr>\n",
       "    <tr>\n",
       "      <th>1222518</th>\n",
       "      <td>2020-03-31</td>\n",
       "      <td>23</td>\n",
       "      <td>1856</td>\n",
       "      <td>1856. 모두의학교</td>\n",
       "      <td>단체권</td>\n",
       "      <td>F</td>\n",
       "      <td>20대</td>\n",
       "      <td>2</td>\n",
       "      <td>88.70</td>\n",
       "      <td>1.04</td>\n",
       "      <td>4480.0</td>\n",
       "      <td>32</td>\n",
       "    </tr>\n",
       "    <tr>\n",
       "      <th>1222519</th>\n",
       "      <td>2020-03-31</td>\n",
       "      <td>23</td>\n",
       "      <td>539</td>\n",
       "      <td>539. 군자교교차로</td>\n",
       "      <td>단체권</td>\n",
       "      <td>F</td>\n",
       "      <td>20대</td>\n",
       "      <td>2</td>\n",
       "      <td>1834.49</td>\n",
       "      <td>16.54</td>\n",
       "      <td>71270.0</td>\n",
       "      <td>107</td>\n",
       "    </tr>\n",
       "    <tr>\n",
       "      <th>1222520</th>\n",
       "      <td>2020-03-31</td>\n",
       "      <td>23</td>\n",
       "      <td>232</td>\n",
       "      <td>232. 양평우림 이비즈센타 앞</td>\n",
       "      <td>단체권</td>\n",
       "      <td>F</td>\n",
       "      <td>20대</td>\n",
       "      <td>1</td>\n",
       "      <td>0.00</td>\n",
       "      <td>0.00</td>\n",
       "      <td>0.0</td>\n",
       "      <td>12</td>\n",
       "    </tr>\n",
       "    <tr>\n",
       "      <th>1222521</th>\n",
       "      <td>2020-03-31</td>\n",
       "      <td>23</td>\n",
       "      <td>817</td>\n",
       "      <td>817. 삼각지역 4번출구 앞</td>\n",
       "      <td>단체권</td>\n",
       "      <td>M</td>\n",
       "      <td>20대</td>\n",
       "      <td>2</td>\n",
       "      <td>501.41</td>\n",
       "      <td>4.52</td>\n",
       "      <td>19480.0</td>\n",
       "      <td>104</td>\n",
       "    </tr>\n",
       "  </tbody>\n",
       "</table>\n",
       "<p>2603155 rows × 12 columns</p>\n",
       "</div>"
      ],
      "text/plain": [
       "               대여일자  대여시간  대여소번호                대여소명 대여구분코드   성별 연령대코드  이용건수  \\\n",
       "0        2020-01-01     0   1044         1044. 굽은다리역    정기권  NaN  ~10대     1   \n",
       "1        2020-01-01     0   1656  1656. 중앙하이츠 아파트 입구    정기권  NaN  ~10대     1   \n",
       "2        2020-01-01     0   1337        1337. 돈암성당 옆    정기권  NaN  ~10대     1   \n",
       "3        2020-01-01     0   1984          1984. 구로구청    정기권  NaN  ~10대     1   \n",
       "4        2020-01-01     0   2601    2601. 석촌호수 서호사거리    정기권  NaN  ~10대     1   \n",
       "...             ...   ...    ...                 ...    ...  ...   ...   ...   \n",
       "1222517  2020-03-31    23    232   232. 양평우림 이비즈센타 앞    단체권  NaN   50대     1   \n",
       "1222518  2020-03-31    23   1856         1856. 모두의학교    단체권    F   20대     2   \n",
       "1222519  2020-03-31    23    539         539. 군자교교차로    단체권    F   20대     2   \n",
       "1222520  2020-03-31    23    232   232. 양평우림 이비즈센타 앞    단체권    F   20대     1   \n",
       "1222521  2020-03-31    23    817    817. 삼각지역 4번출구 앞    단체권    M   20대     2   \n",
       "\n",
       "             운동량    탄소량     이동거리  사용시간  \n",
       "0          33.96   0.30   1280.0     6  \n",
       "1          40.15   0.39   1690.0     6  \n",
       "2          80.88   0.50   2150.0    12  \n",
       "3          47.36   0.43   1840.0    25  \n",
       "4          29.34   0.26   1140.0     5  \n",
       "...          ...    ...      ...   ...  \n",
       "1222517   346.72   3.13  13470.0    64  \n",
       "1222518    88.70   1.04   4480.0    32  \n",
       "1222519  1834.49  16.54  71270.0   107  \n",
       "1222520     0.00   0.00      0.0    12  \n",
       "1222521   501.41   4.52  19480.0   104  \n",
       "\n",
       "[2603155 rows x 12 columns]"
      ]
     },
     "execution_count": 13,
     "metadata": {},
     "output_type": "execute_result"
    }
   ],
   "source": [
    "df_2020= pd.concat([pd.read_csv(folder[1]+'/'+files_2020[0]),\n",
    "                    pd.read_csv(folder[1]+'/'+files_2020[1]),\n",
    "                    pd.read_csv(folder[1]+'/'+files_2020[2])],\n",
    "                   axis=0)\n",
    "\n",
    "df_2020"
   ]
  },
  {
   "cell_type": "code",
   "execution_count": 83,
   "id": "60d0e978",
   "metadata": {
    "scrolled": true
   },
   "outputs": [
    {
     "data": {
      "text/html": [
       "<div>\n",
       "<style scoped>\n",
       "    .dataframe tbody tr th:only-of-type {\n",
       "        vertical-align: middle;\n",
       "    }\n",
       "\n",
       "    .dataframe tbody tr th {\n",
       "        vertical-align: top;\n",
       "    }\n",
       "\n",
       "    .dataframe thead th {\n",
       "        text-align: right;\n",
       "    }\n",
       "</style>\n",
       "<table border=\"1\" class=\"dataframe\">\n",
       "  <thead>\n",
       "    <tr style=\"text-align: right;\">\n",
       "      <th></th>\n",
       "      <th>대여일자</th>\n",
       "      <th>대여시간</th>\n",
       "      <th>대여소번호</th>\n",
       "      <th>대여소명</th>\n",
       "      <th>대여구분코드</th>\n",
       "      <th>연령대코드</th>\n",
       "      <th>이용건수</th>\n",
       "    </tr>\n",
       "  </thead>\n",
       "  <tbody>\n",
       "    <tr>\n",
       "      <th>2603150</th>\n",
       "      <td>2020-03-31</td>\n",
       "      <td>23</td>\n",
       "      <td>232</td>\n",
       "      <td>232. 양평우림 이비즈센타 앞</td>\n",
       "      <td>단체권</td>\n",
       "      <td>50대</td>\n",
       "      <td>1</td>\n",
       "    </tr>\n",
       "    <tr>\n",
       "      <th>2603151</th>\n",
       "      <td>2020-03-31</td>\n",
       "      <td>23</td>\n",
       "      <td>1856</td>\n",
       "      <td>1856. 모두의학교</td>\n",
       "      <td>단체권</td>\n",
       "      <td>20대</td>\n",
       "      <td>2</td>\n",
       "    </tr>\n",
       "    <tr>\n",
       "      <th>2603152</th>\n",
       "      <td>2020-03-31</td>\n",
       "      <td>23</td>\n",
       "      <td>539</td>\n",
       "      <td>539. 군자교교차로</td>\n",
       "      <td>단체권</td>\n",
       "      <td>20대</td>\n",
       "      <td>2</td>\n",
       "    </tr>\n",
       "    <tr>\n",
       "      <th>2603153</th>\n",
       "      <td>2020-03-31</td>\n",
       "      <td>23</td>\n",
       "      <td>232</td>\n",
       "      <td>232. 양평우림 이비즈센타 앞</td>\n",
       "      <td>단체권</td>\n",
       "      <td>20대</td>\n",
       "      <td>1</td>\n",
       "    </tr>\n",
       "    <tr>\n",
       "      <th>2603154</th>\n",
       "      <td>2020-03-31</td>\n",
       "      <td>23</td>\n",
       "      <td>817</td>\n",
       "      <td>817. 삼각지역 4번출구 앞</td>\n",
       "      <td>단체권</td>\n",
       "      <td>20대</td>\n",
       "      <td>2</td>\n",
       "    </tr>\n",
       "  </tbody>\n",
       "</table>\n",
       "</div>"
      ],
      "text/plain": [
       "               대여일자  대여시간  대여소번호               대여소명 대여구분코드 연령대코드  이용건수\n",
       "2603150  2020-03-31    23    232  232. 양평우림 이비즈센타 앞    단체권   50대     1\n",
       "2603151  2020-03-31    23   1856        1856. 모두의학교    단체권   20대     2\n",
       "2603152  2020-03-31    23    539        539. 군자교교차로    단체권   20대     2\n",
       "2603153  2020-03-31    23    232  232. 양평우림 이비즈센타 앞    단체권   20대     1\n",
       "2603154  2020-03-31    23    817   817. 삼각지역 4번출구 앞    단체권   20대     2"
      ]
     },
     "execution_count": 83,
     "metadata": {},
     "output_type": "execute_result"
    }
   ],
   "source": [
    "df_2020 = df_2020.reset_index(drop=True)\n",
    "df_2020.tail()"
   ]
  },
  {
   "cell_type": "code",
   "execution_count": 85,
   "id": "ec68767f",
   "metadata": {},
   "outputs": [],
   "source": [
    "df_2020.to_csv(\"2020_시간별_이용정보.csv\", encoding=\"cp949\")"
   ]
  },
  {
   "cell_type": "markdown",
   "id": "d0ef493b",
   "metadata": {},
   "source": [
    "## 2021 통합"
   ]
  },
  {
   "cell_type": "code",
   "execution_count": 14,
   "id": "d077766f",
   "metadata": {},
   "outputs": [
    {
     "data": {
      "text/plain": [
       "['서울특별시 공공자전거 이용정보(시간대별)_21.01.csv',\n",
       " '서울특별시 공공자전거 이용정보(시간대별)_21.02.csv',\n",
       " '서울특별시 공공자전거 이용정보(시간대별)_21.03.csv',\n",
       " '서울특별시 공공자전거 이용정보(시간대별)_21.04.csv',\n",
       " '서울특별시 공공자전거 이용정보(시간대별)_21.05.csv',\n",
       " '서울특별시 공공자전거 이용정보(시간대별)_21.06.csv',\n",
       " '서울특별시 공공자전거 이용정보(시간대별)_21.07.csv',\n",
       " '서울특별시 공공자전거 이용정보(시간대별)_21.08.csv',\n",
       " '서울특별시 공공자전거 이용정보(시간대별)_21.09.csv',\n",
       " '서울특별시 공공자전거 이용정보(시간대별)_21.10.csv',\n",
       " '서울특별시 공공자전거 이용정보(시간대별)_21.11.csv',\n",
       " '서울특별시 공공자전거 이용정보(시간대별)_21.12.csv']"
      ]
     },
     "execution_count": 14,
     "metadata": {},
     "output_type": "execute_result"
    }
   ],
   "source": [
    "os.listdir(folder[2])"
   ]
  },
  {
   "cell_type": "code",
   "execution_count": 91,
   "id": "6e7bff63",
   "metadata": {},
   "outputs": [
    {
     "data": {
      "text/plain": [
       "array(['정기권', '일일권', '단체권', '일일권(비회원)'], dtype=object)"
      ]
     },
     "execution_count": 91,
     "metadata": {},
     "output_type": "execute_result"
    }
   ],
   "source": [
    "pd.read_csv(folder[2]+'/'+files_2021[0], encoding=\"cp949\").대여구분코드.unique()"
   ]
  },
  {
   "cell_type": "code",
   "execution_count": 93,
   "id": "01a1ad33",
   "metadata": {},
   "outputs": [
    {
     "data": {
      "text/plain": [
       "array(['정기권', '일일권', '단체권', '?ㅁ瘦?,\",20대\"', 'F', '일일권(비회원)', '정기??,F\"',\n",
       "       nan, '?ㅁ瘦?,\",40대\"', 'M', '정?瘦?,F\"', '정?瘦?,\",40대\"', '?舅歐?,F\"',\n",
       "       '정?瘦?,\",20대\"', '정기??,\",20대\"', '?舅歐?,M\"', '일?歐?,F\"', '?ㅁ瘦?,M\"',\n",
       "       '정?瘦?,\",30대\"', '정기??,M\"', '정?瘦?,M\"'], dtype=object)"
      ]
     },
     "execution_count": 93,
     "metadata": {},
     "output_type": "execute_result"
    }
   ],
   "source": [
    "pd.read_csv(folder[2]+'/'+files_2021[2]).대여구분코드.unique()"
   ]
  },
  {
   "cell_type": "code",
   "execution_count": 87,
   "id": "5bcf7a2c",
   "metadata": {},
   "outputs": [
    {
     "data": {
      "text/plain": [
       "array(['정기권', '일일권', '단체권', '정?瘦?,F\"', '?ㅁ瘦?,F\"', nan, 'F', '정?瘦?,\",50대\"',\n",
       "       '정기??,\",20대\"', 'M', '일일권(비회원)', '일?歐?,F\"', '정기??,F\"', '일일??,M\"',\n",
       "       '정?瘦?,M\"'], dtype=object)"
      ]
     },
     "execution_count": 87,
     "metadata": {},
     "output_type": "execute_result"
    }
   ],
   "source": [
    "pd.read_csv(folder[2]+'/'+files_2021[1]).대여구분코드.unique()"
   ]
  },
  {
   "cell_type": "code",
   "execution_count": 17,
   "id": "e489c32b",
   "metadata": {},
   "outputs": [
    {
     "data": {
      "text/html": [
       "<div>\n",
       "<style scoped>\n",
       "    .dataframe tbody tr th:only-of-type {\n",
       "        vertical-align: middle;\n",
       "    }\n",
       "\n",
       "    .dataframe tbody tr th {\n",
       "        vertical-align: top;\n",
       "    }\n",
       "\n",
       "    .dataframe thead th {\n",
       "        text-align: right;\n",
       "    }\n",
       "</style>\n",
       "<table border=\"1\" class=\"dataframe\">\n",
       "  <thead>\n",
       "    <tr style=\"text-align: right;\">\n",
       "      <th></th>\n",
       "      <th>대여일자</th>\n",
       "      <th>대여시간</th>\n",
       "      <th>대여소번호</th>\n",
       "      <th>대여소명</th>\n",
       "      <th>대여구분코드</th>\n",
       "      <th>성별</th>\n",
       "      <th>연령대코드</th>\n",
       "      <th>이용건수</th>\n",
       "      <th>운동량</th>\n",
       "      <th>탄소량</th>\n",
       "      <th>이동거리</th>\n",
       "      <th>사용시간</th>\n",
       "    </tr>\n",
       "  </thead>\n",
       "  <tbody>\n",
       "    <tr>\n",
       "      <th>0</th>\n",
       "      <td>2021-01-01</td>\n",
       "      <td>0</td>\n",
       "      <td>1347</td>\n",
       "      <td>1347. 길음래미안아파트817동 상가 앞</td>\n",
       "      <td>정기권</td>\n",
       "      <td>NaN</td>\n",
       "      <td>~10대</td>\n",
       "      <td>2</td>\n",
       "      <td>28.90</td>\n",
       "      <td>0.23</td>\n",
       "      <td>992.78</td>\n",
       "      <td>13.0</td>\n",
       "    </tr>\n",
       "    <tr>\n",
       "      <th>1</th>\n",
       "      <td>2021-01-01</td>\n",
       "      <td>0</td>\n",
       "      <td>1349</td>\n",
       "      <td>1349. 월계2교 버스정류장 앞</td>\n",
       "      <td>정기권</td>\n",
       "      <td>NaN</td>\n",
       "      <td>~10대</td>\n",
       "      <td>1</td>\n",
       "      <td>34.38</td>\n",
       "      <td>0.26</td>\n",
       "      <td>1127.50</td>\n",
       "      <td>10.0</td>\n",
       "    </tr>\n",
       "    <tr>\n",
       "      <th>2</th>\n",
       "      <td>2021-01-01</td>\n",
       "      <td>0</td>\n",
       "      <td>1168</td>\n",
       "      <td>1168. 마곡엠밸리10단지 앞</td>\n",
       "      <td>정기권</td>\n",
       "      <td>NaN</td>\n",
       "      <td>~10대</td>\n",
       "      <td>1</td>\n",
       "      <td>0.00</td>\n",
       "      <td>0.00</td>\n",
       "      <td>0.00</td>\n",
       "      <td>7.0</td>\n",
       "    </tr>\n",
       "    <tr>\n",
       "      <th>3</th>\n",
       "      <td>2021-01-01</td>\n",
       "      <td>0</td>\n",
       "      <td>2619</td>\n",
       "      <td>2619. 석촌고분역 4번출구</td>\n",
       "      <td>정기권</td>\n",
       "      <td>NaN</td>\n",
       "      <td>~10대</td>\n",
       "      <td>1</td>\n",
       "      <td>38.75</td>\n",
       "      <td>0.38</td>\n",
       "      <td>1658.34</td>\n",
       "      <td>14.0</td>\n",
       "    </tr>\n",
       "    <tr>\n",
       "      <th>4</th>\n",
       "      <td>2021-01-01</td>\n",
       "      <td>0</td>\n",
       "      <td>536</td>\n",
       "      <td>536. 행당역 2번출구 앞</td>\n",
       "      <td>정기권</td>\n",
       "      <td>NaN</td>\n",
       "      <td>~10대</td>\n",
       "      <td>1</td>\n",
       "      <td>12.96</td>\n",
       "      <td>0.17</td>\n",
       "      <td>743.88</td>\n",
       "      <td>5.0</td>\n",
       "    </tr>\n",
       "    <tr>\n",
       "      <th>...</th>\n",
       "      <td>...</td>\n",
       "      <td>...</td>\n",
       "      <td>...</td>\n",
       "      <td>...</td>\n",
       "      <td>...</td>\n",
       "      <td>...</td>\n",
       "      <td>...</td>\n",
       "      <td>...</td>\n",
       "      <td>...</td>\n",
       "      <td>...</td>\n",
       "      <td>...</td>\n",
       "      <td>...</td>\n",
       "    </tr>\n",
       "    <tr>\n",
       "      <th>1794265</th>\n",
       "      <td>2021-03-31</td>\n",
       "      <td>23</td>\n",
       "      <td>576</td>\n",
       "      <td>576. 광나루역 3번 출구</td>\n",
       "      <td>정기권</td>\n",
       "      <td>M</td>\n",
       "      <td>60대</td>\n",
       "      <td>1.0</td>\n",
       "      <td>100.98</td>\n",
       "      <td>0.79</td>\n",
       "      <td>3400.00</td>\n",
       "      <td>30.0</td>\n",
       "    </tr>\n",
       "    <tr>\n",
       "      <th>1794266</th>\n",
       "      <td>2021-03-31</td>\n",
       "      <td>23</td>\n",
       "      <td>2223</td>\n",
       "      <td>2223. 방배래미안 정문 앞</td>\n",
       "      <td>정기권</td>\n",
       "      <td>M</td>\n",
       "      <td>60대</td>\n",
       "      <td>1.0</td>\n",
       "      <td>30.50</td>\n",
       "      <td>0.31</td>\n",
       "      <td>1351.21</td>\n",
       "      <td>8.0</td>\n",
       "    </tr>\n",
       "    <tr>\n",
       "      <th>1794267</th>\n",
       "      <td>2021-03-31</td>\n",
       "      <td>23</td>\n",
       "      <td>2301</td>\n",
       "      <td>2301. 현대고등학교 건너편</td>\n",
       "      <td>정기권</td>\n",
       "      <td>M</td>\n",
       "      <td>60대</td>\n",
       "      <td>1.0</td>\n",
       "      <td>140.32</td>\n",
       "      <td>1.26</td>\n",
       "      <td>5451.41</td>\n",
       "      <td>97.0</td>\n",
       "    </tr>\n",
       "    <tr>\n",
       "      <th>1794268</th>\n",
       "      <td>2021-03-31</td>\n",
       "      <td>23</td>\n",
       "      <td>2656</td>\n",
       "      <td>2656.풍납동 아이파크 107동 앞</td>\n",
       "      <td>정기권</td>\n",
       "      <td>M</td>\n",
       "      <td>70대~</td>\n",
       "      <td>1.0</td>\n",
       "      <td>46.06</td>\n",
       "      <td>0.39</td>\n",
       "      <td>1685.61</td>\n",
       "      <td>10.0</td>\n",
       "    </tr>\n",
       "    <tr>\n",
       "      <th>1794269</th>\n",
       "      <td>2021-03-31</td>\n",
       "      <td>23</td>\n",
       "      <td>3784</td>\n",
       "      <td>3784. 벽산아파트</td>\n",
       "      <td>정기권</td>\n",
       "      <td>M</td>\n",
       "      <td>70대~</td>\n",
       "      <td>1.0</td>\n",
       "      <td>91.29</td>\n",
       "      <td>0.89</td>\n",
       "      <td>3842.22</td>\n",
       "      <td>86.0</td>\n",
       "    </tr>\n",
       "  </tbody>\n",
       "</table>\n",
       "<p>3621779 rows × 12 columns</p>\n",
       "</div>"
      ],
      "text/plain": [
       "               대여일자  대여시간  대여소번호                     대여소명 대여구분코드   성별 연령대코드  \\\n",
       "0        2021-01-01     0   1347  1347. 길음래미안아파트817동 상가 앞    정기권  NaN  ~10대   \n",
       "1        2021-01-01     0   1349       1349. 월계2교 버스정류장 앞    정기권  NaN  ~10대   \n",
       "2        2021-01-01     0   1168        1168. 마곡엠밸리10단지 앞    정기권  NaN  ~10대   \n",
       "3        2021-01-01     0   2619         2619. 석촌고분역 4번출구    정기권  NaN  ~10대   \n",
       "4        2021-01-01     0    536          536. 행당역 2번출구 앞    정기권  NaN  ~10대   \n",
       "...             ...   ...    ...                      ...    ...  ...   ...   \n",
       "1794265  2021-03-31    23    576          576. 광나루역 3번 출구    정기권    M   60대   \n",
       "1794266  2021-03-31    23   2223         2223. 방배래미안 정문 앞    정기권    M   60대   \n",
       "1794267  2021-03-31    23   2301         2301. 현대고등학교 건너편    정기권    M   60대   \n",
       "1794268  2021-03-31    23   2656     2656.풍납동 아이파크 107동 앞    정기권    M  70대~   \n",
       "1794269  2021-03-31    23   3784              3784. 벽산아파트    정기권    M  70대~   \n",
       "\n",
       "        이용건수     운동량   탄소량     이동거리  사용시간  \n",
       "0          2   28.90  0.23   992.78  13.0  \n",
       "1          1   34.38  0.26  1127.50  10.0  \n",
       "2          1    0.00  0.00     0.00   7.0  \n",
       "3          1   38.75  0.38  1658.34  14.0  \n",
       "4          1   12.96  0.17   743.88   5.0  \n",
       "...      ...     ...   ...      ...   ...  \n",
       "1794265  1.0  100.98  0.79  3400.00  30.0  \n",
       "1794266  1.0   30.50  0.31  1351.21   8.0  \n",
       "1794267  1.0  140.32  1.26  5451.41  97.0  \n",
       "1794268  1.0   46.06  0.39  1685.61  10.0  \n",
       "1794269  1.0   91.29  0.89  3842.22  86.0  \n",
       "\n",
       "[3621779 rows x 12 columns]"
      ]
     },
     "execution_count": 17,
     "metadata": {},
     "output_type": "execute_result"
    }
   ],
   "source": [
    "df_2021= pd.concat([pd.read_csv(folder[2]+'/'+files_2021[0],encoding=\"cp949\"),\n",
    "                    pd.read_csv(folder[2]+'/'+files_2021[1]),\n",
    "                    pd.read_csv(folder[2]+'/'+files_2021[2])],\n",
    "                   axis=0)\n",
    "\n",
    "df_2021"
   ]
  },
  {
   "cell_type": "code",
   "execution_count": 57,
   "id": "adeb5ba5",
   "metadata": {},
   "outputs": [
    {
     "data": {
      "text/html": [
       "<div>\n",
       "<style scoped>\n",
       "    .dataframe tbody tr th:only-of-type {\n",
       "        vertical-align: middle;\n",
       "    }\n",
       "\n",
       "    .dataframe tbody tr th {\n",
       "        vertical-align: top;\n",
       "    }\n",
       "\n",
       "    .dataframe thead th {\n",
       "        text-align: right;\n",
       "    }\n",
       "</style>\n",
       "<table border=\"1\" class=\"dataframe\">\n",
       "  <thead>\n",
       "    <tr style=\"text-align: right;\">\n",
       "      <th></th>\n",
       "      <th>대여일자</th>\n",
       "      <th>대여시간</th>\n",
       "      <th>대여소번호</th>\n",
       "      <th>대여소명</th>\n",
       "      <th>대여구분코드</th>\n",
       "      <th>연령대코드</th>\n",
       "      <th>이용건수</th>\n",
       "    </tr>\n",
       "  </thead>\n",
       "  <tbody>\n",
       "    <tr>\n",
       "      <th>3621774</th>\n",
       "      <td>2021-03-31</td>\n",
       "      <td>23</td>\n",
       "      <td>576</td>\n",
       "      <td>576. 광나루역 3번 출구</td>\n",
       "      <td>정기권</td>\n",
       "      <td>60대</td>\n",
       "      <td>1.0</td>\n",
       "    </tr>\n",
       "    <tr>\n",
       "      <th>3621775</th>\n",
       "      <td>2021-03-31</td>\n",
       "      <td>23</td>\n",
       "      <td>2223</td>\n",
       "      <td>2223. 방배래미안 정문 앞</td>\n",
       "      <td>정기권</td>\n",
       "      <td>60대</td>\n",
       "      <td>1.0</td>\n",
       "    </tr>\n",
       "    <tr>\n",
       "      <th>3621776</th>\n",
       "      <td>2021-03-31</td>\n",
       "      <td>23</td>\n",
       "      <td>2301</td>\n",
       "      <td>2301. 현대고등학교 건너편</td>\n",
       "      <td>정기권</td>\n",
       "      <td>60대</td>\n",
       "      <td>1.0</td>\n",
       "    </tr>\n",
       "    <tr>\n",
       "      <th>3621777</th>\n",
       "      <td>2021-03-31</td>\n",
       "      <td>23</td>\n",
       "      <td>2656</td>\n",
       "      <td>2656.풍납동 아이파크 107동 앞</td>\n",
       "      <td>정기권</td>\n",
       "      <td>70대~</td>\n",
       "      <td>1.0</td>\n",
       "    </tr>\n",
       "    <tr>\n",
       "      <th>3621778</th>\n",
       "      <td>2021-03-31</td>\n",
       "      <td>23</td>\n",
       "      <td>3784</td>\n",
       "      <td>3784. 벽산아파트</td>\n",
       "      <td>정기권</td>\n",
       "      <td>70대~</td>\n",
       "      <td>1.0</td>\n",
       "    </tr>\n",
       "  </tbody>\n",
       "</table>\n",
       "</div>"
      ],
      "text/plain": [
       "               대여일자  대여시간  대여소번호                  대여소명 대여구분코드 연령대코드 이용건수\n",
       "3621774  2021-03-31    23    576       576. 광나루역 3번 출구    정기권   60대  1.0\n",
       "3621775  2021-03-31    23   2223      2223. 방배래미안 정문 앞    정기권   60대  1.0\n",
       "3621776  2021-03-31    23   2301      2301. 현대고등학교 건너편    정기권   60대  1.0\n",
       "3621777  2021-03-31    23   2656  2656.풍납동 아이파크 107동 앞    정기권  70대~  1.0\n",
       "3621778  2021-03-31    23   3784           3784. 벽산아파트    정기권  70대~  1.0"
      ]
     },
     "execution_count": 57,
     "metadata": {},
     "output_type": "execute_result"
    }
   ],
   "source": [
    "df_2021 = df_2021.reset_index(drop=True)\n",
    "df_2021.tail()"
   ]
  },
  {
   "cell_type": "code",
   "execution_count": 86,
   "id": "4a29939c",
   "metadata": {},
   "outputs": [],
   "source": [
    "df_2021.to_csv(\"2021_시간별_이용정보.csv\", encoding=\"cp949\")"
   ]
  },
  {
   "cell_type": "markdown",
   "id": "e4752de6",
   "metadata": {},
   "source": [
    "# 전처리하기"
   ]
  },
  {
   "cell_type": "markdown",
   "id": "a3929de6",
   "metadata": {},
   "source": [
    "## 필요없는 feature 제거"
   ]
  },
  {
   "cell_type": "code",
   "execution_count": 18,
   "id": "8ced8b0e",
   "metadata": {},
   "outputs": [
    {
     "name": "stdout",
     "output_type": "stream",
     "text": [
      "Index(['대여일자', '대여시간', '대여소번호', '대여소명', '대여구분코드', '성별', '연령대코드', '이용건수', '운동량',\n",
      "       '탄소량', '이동거리', '사용시간'],\n",
      "      dtype='object')\n",
      "Index(['대여일자', '대여시간', '대여소번호', '대여소명', '대여구분코드', '성별', '연령대코드', '이용건수', '운동량',\n",
      "       '탄소량', '이동거리', '사용시간'],\n",
      "      dtype='object')\n",
      "Index(['대여일자', '대여시간', '대여소번호', '대여소명', '대여구분코드', '성별', '연령대코드', '이용건수', '운동량',\n",
      "       '탄소량', '이동거리', '사용시간'],\n",
      "      dtype='object')\n"
     ]
    }
   ],
   "source": [
    "# 현재 열 확인하기\n",
    "print(df_2019.columns)\n",
    "print(df_2020.columns)\n",
    "print(df_2021.columns)"
   ]
  },
  {
   "cell_type": "code",
   "execution_count": 23,
   "id": "a16d6113",
   "metadata": {},
   "outputs": [],
   "source": [
    "# 성별, 운동량, 탄소량, 이동거리, 사용시간 제거\n",
    "df_2019.drop(columns=['성별','운동량','탄소량', '이동거리', '사용시간'], inplace=True)\n",
    "df_2020.drop(columns=['성별','운동량','탄소량', '이동거리', '사용시간'], inplace=True)\n",
    "df_2021.drop(columns=['성별','운동량','탄소량', '이동거리', '사용시간'], inplace=True)"
   ]
  },
  {
   "cell_type": "code",
   "execution_count": 24,
   "id": "fb62a7c6",
   "metadata": {},
   "outputs": [
    {
     "name": "stdout",
     "output_type": "stream",
     "text": [
      "Index(['대여일자', '대여시간', '대여소번호', '대여소명', '대여구분코드', '연령대코드', '이용건수'], dtype='object')\n",
      "Index(['대여일자', '대여시간', '대여소번호', '대여소명', '대여구분코드', '연령대코드', '이용건수'], dtype='object')\n",
      "Index(['대여일자', '대여시간', '대여소번호', '대여소명', '대여구분코드', '연령대코드', '이용건수'], dtype='object')\n"
     ]
    }
   ],
   "source": [
    "# 삭제되었나 확인\n",
    "print(df_2019.columns)\n",
    "print(df_2020.columns)\n",
    "print(df_2021.columns)"
   ]
  },
  {
   "cell_type": "markdown",
   "id": "6d72dd0a",
   "metadata": {},
   "source": [
    "## 대여소번호에 대여소명으로 들어가 있는 것 확인"
   ]
  },
  {
   "cell_type": "code",
   "execution_count": 45,
   "id": "a71893f3",
   "metadata": {},
   "outputs": [
    {
     "data": {
      "text/plain": [
       "192762    99999\n",
       "94507     99999\n",
       "393764    99999\n",
       "387591    99999\n",
       "4689      99999\n",
       "225634    99999\n",
       "27275     99999\n",
       "225828    99999\n",
       "105091    99999\n",
       "265631    99999\n",
       "Name: 대여소번호, dtype: int64"
      ]
     },
     "execution_count": 45,
     "metadata": {},
     "output_type": "execute_result"
    }
   ],
   "source": [
    "#2019년\n",
    "df_2019.대여소번호.sort_values()[-10:]"
   ]
  },
  {
   "cell_type": "code",
   "execution_count": 46,
   "id": "8f573700",
   "metadata": {},
   "outputs": [
    {
     "data": {
      "text/plain": [
       "474389    99999\n",
       "590500    99999\n",
       "391113    99999\n",
       "546781    99999\n",
       "964203    99999\n",
       "87318     99999\n",
       "319709    99999\n",
       "156349    99999\n",
       "445752    99999\n",
       "329121    99999\n",
       "Name: 대여소번호, dtype: int64"
      ]
     },
     "execution_count": 46,
     "metadata": {},
     "output_type": "execute_result"
    }
   ],
   "source": [
    "#2020년\n",
    "df_2020.대여소번호.sort_values()[-10:]"
   ]
  },
  {
   "cell_type": "code",
   "execution_count": 47,
   "id": "57a74fca",
   "metadata": {},
   "outputs": [
    {
     "data": {
      "text/plain": [
       "1015478     9999\n",
       "476883      9999\n",
       "310805      9999\n",
       "650529      9999\n",
       "1522337     9999\n",
       "310304      9999\n",
       "1401492     9999\n",
       "378718      9999\n",
       "566703      9999\n",
       "14389      99999\n",
       "Name: 대여소번호, dtype: int64"
      ]
     },
     "execution_count": 47,
     "metadata": {},
     "output_type": "execute_result"
    }
   ],
   "source": [
    "#2021년\n",
    "df_2021.대여소번호.sort_values()[-10:]"
   ]
  },
  {
   "cell_type": "markdown",
   "id": "07d3d922",
   "metadata": {},
   "source": [
    "## 대여소명 정리"
   ]
  },
  {
   "cell_type": "code",
   "execution_count": 77,
   "id": "57bd9cf4",
   "metadata": {},
   "outputs": [
    {
     "data": {
      "text/html": [
       "<div>\n",
       "<style scoped>\n",
       "    .dataframe tbody tr th:only-of-type {\n",
       "        vertical-align: middle;\n",
       "    }\n",
       "\n",
       "    .dataframe tbody tr th {\n",
       "        vertical-align: top;\n",
       "    }\n",
       "\n",
       "    .dataframe thead th {\n",
       "        text-align: right;\n",
       "    }\n",
       "</style>\n",
       "<table border=\"1\" class=\"dataframe\">\n",
       "  <thead>\n",
       "    <tr style=\"text-align: right;\">\n",
       "      <th></th>\n",
       "      <th>대여소번호</th>\n",
       "      <th>대여소명</th>\n",
       "    </tr>\n",
       "  </thead>\n",
       "  <tbody>\n",
       "    <tr>\n",
       "      <th>0</th>\n",
       "      <td>1044</td>\n",
       "      <td>1044. 굽은다리역</td>\n",
       "    </tr>\n",
       "    <tr>\n",
       "      <th>1</th>\n",
       "      <td>1656</td>\n",
       "      <td>1656. 중앙하이츠 아파트 입구</td>\n",
       "    </tr>\n",
       "    <tr>\n",
       "      <th>2</th>\n",
       "      <td>1337</td>\n",
       "      <td>1337. 돈암성당 옆</td>\n",
       "    </tr>\n",
       "    <tr>\n",
       "      <th>3</th>\n",
       "      <td>1984</td>\n",
       "      <td>1984. 구로구청</td>\n",
       "    </tr>\n",
       "    <tr>\n",
       "      <th>4</th>\n",
       "      <td>2601</td>\n",
       "      <td>2601. 석촌호수 서호사거리</td>\n",
       "    </tr>\n",
       "  </tbody>\n",
       "</table>\n",
       "</div>"
      ],
      "text/plain": [
       "   대여소번호                대여소명\n",
       "0   1044         1044. 굽은다리역\n",
       "1   1656  1656. 중앙하이츠 아파트 입구\n",
       "2   1337        1337. 돈암성당 옆\n",
       "3   1984          1984. 구로구청\n",
       "4   2601    2601. 석촌호수 서호사거리"
      ]
     },
     "execution_count": 77,
     "metadata": {},
     "output_type": "execute_result"
    }
   ],
   "source": [
    "tmp19= df_2019[['대여소번호','대여소명']].copy()\n",
    "tmp19.head()"
   ]
  },
  {
   "cell_type": "code",
   "execution_count": 69,
   "id": "07b63220",
   "metadata": {},
   "outputs": [],
   "source": [
    "def split_name(x):\n",
    "    try:\n",
    "        return x.split(\".\")[1]\n",
    "    except:\n",
    "        return np.nan"
   ]
  },
  {
   "cell_type": "code",
   "execution_count": 78,
   "id": "bd243ce9",
   "metadata": {},
   "outputs": [
    {
     "data": {
      "text/plain": [
       "1044"
      ]
     },
     "execution_count": 78,
     "metadata": {},
     "output_type": "execute_result"
    }
   ],
   "source": [
    "tmp19.대여소번호[0]"
   ]
  },
  {
   "cell_type": "code",
   "execution_count": 81,
   "id": "e9e20b81",
   "metadata": {},
   "outputs": [
    {
     "ename": "KeyboardInterrupt",
     "evalue": "",
     "output_type": "error",
     "traceback": [
      "\u001b[1;31m---------------------------------------------------------------------------\u001b[0m",
      "\u001b[1;31mKeyboardInterrupt\u001b[0m                         Traceback (most recent call last)",
      "\u001b[1;32m~\\AppData\\Local\\Temp/ipykernel_16808/3361703292.py\u001b[0m in \u001b[0;36m<module>\u001b[1;34m\u001b[0m\n\u001b[0;32m      1\u001b[0m \u001b[1;32mfor\u001b[0m \u001b[0mi\u001b[0m \u001b[1;32min\u001b[0m \u001b[0mrange\u001b[0m\u001b[1;33m(\u001b[0m\u001b[0mlen\u001b[0m\u001b[1;33m(\u001b[0m\u001b[0mtmp19\u001b[0m\u001b[1;33m)\u001b[0m\u001b[1;33m)\u001b[0m\u001b[1;33m:\u001b[0m\u001b[1;33m\u001b[0m\u001b[1;33m\u001b[0m\u001b[0m\n\u001b[0;32m      2\u001b[0m     \u001b[1;32mif\u001b[0m \u001b[1;33m(\u001b[0m\u001b[0mstr\u001b[0m\u001b[1;33m(\u001b[0m\u001b[0mtmp19\u001b[0m\u001b[1;33m.\u001b[0m\u001b[0m대여소번호\u001b[0m\u001b[1;33m[\u001b[0m\u001b[0mi\u001b[0m\u001b[1;33m]\u001b[0m\u001b[1;33m)\u001b[0m\u001b[1;33m+\u001b[0m\u001b[1;34m\".\"\u001b[0m\u001b[1;33m)\u001b[0m \u001b[1;32min\u001b[0m \u001b[0mtmp19\u001b[0m\u001b[1;33m.\u001b[0m\u001b[0m대여소명\u001b[0m\u001b[1;33m[\u001b[0m\u001b[0mi\u001b[0m\u001b[1;33m]\u001b[0m\u001b[1;33m:\u001b[0m\u001b[1;33m\u001b[0m\u001b[1;33m\u001b[0m\u001b[0m\n\u001b[1;32m----> 3\u001b[1;33m         \u001b[0mtmp19\u001b[0m\u001b[1;33m.\u001b[0m\u001b[0m대여소명\u001b[0m\u001b[1;33m[\u001b[0m\u001b[0mi\u001b[0m\u001b[1;33m]\u001b[0m\u001b[1;33m=\u001b[0m \u001b[0mtmp19\u001b[0m\u001b[1;33m.\u001b[0m\u001b[0m대여소명\u001b[0m\u001b[1;33m[\u001b[0m\u001b[0mi\u001b[0m\u001b[1;33m]\u001b[0m\u001b[1;33m.\u001b[0m\u001b[0msplit\u001b[0m\u001b[1;33m(\u001b[0m\u001b[1;34m'.'\u001b[0m\u001b[1;33m)\u001b[0m\u001b[1;33m[\u001b[0m\u001b[1;36m1\u001b[0m\u001b[1;33m]\u001b[0m\u001b[1;33m\u001b[0m\u001b[1;33m\u001b[0m\u001b[0m\n\u001b[0m\u001b[0;32m      4\u001b[0m     \u001b[1;32melse\u001b[0m\u001b[1;33m:\u001b[0m\u001b[1;33m\u001b[0m\u001b[1;33m\u001b[0m\u001b[0m\n\u001b[0;32m      5\u001b[0m         \u001b[0mprint\u001b[0m\u001b[1;33m(\u001b[0m\u001b[0mi\u001b[0m\u001b[1;33m)\u001b[0m\u001b[1;33m\u001b[0m\u001b[1;33m\u001b[0m\u001b[0m\n",
      "\u001b[1;32m~\\anaconda3\\lib\\site-packages\\pandas\\core\\series.py\u001b[0m in \u001b[0;36m__setitem__\u001b[1;34m(self, key, value)\u001b[0m\n\u001b[0;32m   1089\u001b[0m \u001b[1;33m\u001b[0m\u001b[0m\n\u001b[0;32m   1090\u001b[0m         \u001b[1;32mif\u001b[0m \u001b[0mcacher_needs_updating\u001b[0m\u001b[1;33m:\u001b[0m\u001b[1;33m\u001b[0m\u001b[1;33m\u001b[0m\u001b[0m\n\u001b[1;32m-> 1091\u001b[1;33m             \u001b[0mself\u001b[0m\u001b[1;33m.\u001b[0m\u001b[0m_maybe_update_cacher\u001b[0m\u001b[1;33m(\u001b[0m\u001b[1;33m)\u001b[0m\u001b[1;33m\u001b[0m\u001b[1;33m\u001b[0m\u001b[0m\n\u001b[0m\u001b[0;32m   1092\u001b[0m \u001b[1;33m\u001b[0m\u001b[0m\n\u001b[0;32m   1093\u001b[0m     \u001b[1;32mdef\u001b[0m \u001b[0m_set_with_engine\u001b[0m\u001b[1;33m(\u001b[0m\u001b[0mself\u001b[0m\u001b[1;33m,\u001b[0m \u001b[0mkey\u001b[0m\u001b[1;33m,\u001b[0m \u001b[0mvalue\u001b[0m\u001b[1;33m)\u001b[0m \u001b[1;33m->\u001b[0m \u001b[1;32mNone\u001b[0m\u001b[1;33m:\u001b[0m\u001b[1;33m\u001b[0m\u001b[1;33m\u001b[0m\u001b[0m\n",
      "\u001b[1;32m~\\anaconda3\\lib\\site-packages\\pandas\\core\\series.py\u001b[0m in \u001b[0;36m_maybe_update_cacher\u001b[1;34m(self, clear, verify_is_copy)\u001b[0m\n\u001b[0;32m   1233\u001b[0m                 \u001b[1;31m# to ensure column still in dataframe\u001b[0m\u001b[1;33m\u001b[0m\u001b[1;33m\u001b[0m\u001b[0m\n\u001b[0;32m   1234\u001b[0m                 \u001b[1;31m# otherwise, either self or ref has swapped in new arrays\u001b[0m\u001b[1;33m\u001b[0m\u001b[1;33m\u001b[0m\u001b[0m\n\u001b[1;32m-> 1235\u001b[1;33m                 \u001b[0mref\u001b[0m\u001b[1;33m.\u001b[0m\u001b[0m_maybe_cache_changed\u001b[0m\u001b[1;33m(\u001b[0m\u001b[0mcacher\u001b[0m\u001b[1;33m[\u001b[0m\u001b[1;36m0\u001b[0m\u001b[1;33m]\u001b[0m\u001b[1;33m,\u001b[0m \u001b[0mself\u001b[0m\u001b[1;33m)\u001b[0m\u001b[1;33m\u001b[0m\u001b[1;33m\u001b[0m\u001b[0m\n\u001b[0m\u001b[0;32m   1236\u001b[0m             \u001b[1;32melse\u001b[0m\u001b[1;33m:\u001b[0m\u001b[1;33m\u001b[0m\u001b[1;33m\u001b[0m\u001b[0m\n\u001b[0;32m   1237\u001b[0m                 \u001b[1;31m# GH#33675 we have swapped in a new array, so parent\u001b[0m\u001b[1;33m\u001b[0m\u001b[1;33m\u001b[0m\u001b[0m\n",
      "\u001b[1;32m~\\anaconda3\\lib\\site-packages\\pandas\\core\\frame.py\u001b[0m in \u001b[0;36m_maybe_cache_changed\u001b[1;34m(self, item, value)\u001b[0m\n\u001b[0;32m   3903\u001b[0m         \u001b[0mloc\u001b[0m \u001b[1;33m=\u001b[0m \u001b[0mself\u001b[0m\u001b[1;33m.\u001b[0m\u001b[0m_info_axis\u001b[0m\u001b[1;33m.\u001b[0m\u001b[0mget_loc\u001b[0m\u001b[1;33m(\u001b[0m\u001b[0mitem\u001b[0m\u001b[1;33m)\u001b[0m\u001b[1;33m\u001b[0m\u001b[1;33m\u001b[0m\u001b[0m\n\u001b[0;32m   3904\u001b[0m         \u001b[0marraylike\u001b[0m \u001b[1;33m=\u001b[0m \u001b[0mvalue\u001b[0m\u001b[1;33m.\u001b[0m\u001b[0m_values\u001b[0m\u001b[1;33m\u001b[0m\u001b[1;33m\u001b[0m\u001b[0m\n\u001b[1;32m-> 3905\u001b[1;33m         \u001b[0mself\u001b[0m\u001b[1;33m.\u001b[0m\u001b[0m_mgr\u001b[0m\u001b[1;33m.\u001b[0m\u001b[0miset\u001b[0m\u001b[1;33m(\u001b[0m\u001b[0mloc\u001b[0m\u001b[1;33m,\u001b[0m \u001b[0marraylike\u001b[0m\u001b[1;33m)\u001b[0m\u001b[1;33m\u001b[0m\u001b[1;33m\u001b[0m\u001b[0m\n\u001b[0m\u001b[0;32m   3906\u001b[0m \u001b[1;33m\u001b[0m\u001b[0m\n\u001b[0;32m   3907\u001b[0m     \u001b[1;31m# ----------------------------------------------------------------------\u001b[0m\u001b[1;33m\u001b[0m\u001b[1;33m\u001b[0m\u001b[0m\n",
      "\u001b[1;32m~\\anaconda3\\lib\\site-packages\\pandas\\core\\internals\\managers.py\u001b[0m in \u001b[0;36miset\u001b[1;34m(self, loc, value)\u001b[0m\n\u001b[0;32m   1076\u001b[0m             \u001b[0mblk_locs\u001b[0m \u001b[1;33m=\u001b[0m \u001b[0mblklocs\u001b[0m\u001b[1;33m[\u001b[0m\u001b[0mval_locs\u001b[0m\u001b[1;33m.\u001b[0m\u001b[0mindexer\u001b[0m\u001b[1;33m]\u001b[0m\u001b[1;33m\u001b[0m\u001b[1;33m\u001b[0m\u001b[0m\n\u001b[0;32m   1077\u001b[0m             \u001b[1;32mif\u001b[0m \u001b[0mblk\u001b[0m\u001b[1;33m.\u001b[0m\u001b[0mshould_store\u001b[0m\u001b[1;33m(\u001b[0m\u001b[0mvalue\u001b[0m\u001b[1;33m)\u001b[0m\u001b[1;33m:\u001b[0m\u001b[1;33m\u001b[0m\u001b[1;33m\u001b[0m\u001b[0m\n\u001b[1;32m-> 1078\u001b[1;33m                 \u001b[0mblk\u001b[0m\u001b[1;33m.\u001b[0m\u001b[0mset_inplace\u001b[0m\u001b[1;33m(\u001b[0m\u001b[0mblk_locs\u001b[0m\u001b[1;33m,\u001b[0m \u001b[0mvalue_getitem\u001b[0m\u001b[1;33m(\u001b[0m\u001b[0mval_locs\u001b[0m\u001b[1;33m)\u001b[0m\u001b[1;33m)\u001b[0m\u001b[1;33m\u001b[0m\u001b[1;33m\u001b[0m\u001b[0m\n\u001b[0m\u001b[0;32m   1079\u001b[0m             \u001b[1;32melse\u001b[0m\u001b[1;33m:\u001b[0m\u001b[1;33m\u001b[0m\u001b[1;33m\u001b[0m\u001b[0m\n\u001b[0;32m   1080\u001b[0m                 \u001b[0munfit_mgr_locs\u001b[0m\u001b[1;33m.\u001b[0m\u001b[0mappend\u001b[0m\u001b[1;33m(\u001b[0m\u001b[0mblk\u001b[0m\u001b[1;33m.\u001b[0m\u001b[0mmgr_locs\u001b[0m\u001b[1;33m.\u001b[0m\u001b[0mas_array\u001b[0m\u001b[1;33m[\u001b[0m\u001b[0mblk_locs\u001b[0m\u001b[1;33m]\u001b[0m\u001b[1;33m)\u001b[0m\u001b[1;33m\u001b[0m\u001b[1;33m\u001b[0m\u001b[0m\n",
      "\u001b[1;31mKeyboardInterrupt\u001b[0m: "
     ]
    }
   ],
   "source": [
    "for i in range(len(tmp19)):\n",
    "    if (str(tmp19.대여소번호[i])+\".\") in tmp19.대여소명[i]:\n",
    "        tmp19.대여소명[i]= tmp19.대여소명[i].split('.')[1]\n",
    "    else:\n",
    "        print(i)"
   ]
  },
  {
   "cell_type": "markdown",
   "id": "ca7d33ce",
   "metadata": {},
   "source": [
    "## 대여일자 년/월/일 분리"
   ]
  },
  {
   "cell_type": "code",
   "execution_count": null,
   "id": "b1daa142",
   "metadata": {},
   "outputs": [],
   "source": []
  },
  {
   "cell_type": "markdown",
   "id": "77ea55d7",
   "metadata": {},
   "source": [
    "## 결측값 처리"
   ]
  },
  {
   "cell_type": "code",
   "execution_count": null,
   "id": "3e97ebfb",
   "metadata": {},
   "outputs": [],
   "source": []
  },
  {
   "cell_type": "code",
   "execution_count": null,
   "id": "eeed0b38",
   "metadata": {},
   "outputs": [],
   "source": []
  }
 ],
 "metadata": {
  "kernelspec": {
   "display_name": "Python 3 (ipykernel)",
   "language": "python",
   "name": "python3"
  },
  "language_info": {
   "codemirror_mode": {
    "name": "ipython",
    "version": 3
   },
   "file_extension": ".py",
   "mimetype": "text/x-python",
   "name": "python",
   "nbconvert_exporter": "python",
   "pygments_lexer": "ipython3",
   "version": "3.9.7"
  },
  "toc": {
   "base_numbering": 1,
   "nav_menu": {},
   "number_sections": true,
   "sideBar": true,
   "skip_h1_title": false,
   "title_cell": "Table of Contents",
   "title_sidebar": "Contents",
   "toc_cell": false,
   "toc_position": {},
   "toc_section_display": true,
   "toc_window_display": false
  }
 },
 "nbformat": 4,
 "nbformat_minor": 5
}
