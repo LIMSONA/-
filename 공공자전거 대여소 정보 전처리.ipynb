{
 "cells": [
  {
   "cell_type": "markdown",
   "id": "7be4c1d1",
   "metadata": {
    "heading_collapsed": true
   },
   "source": [
    "# 데이터 불러오기"
   ]
  },
  {
   "cell_type": "code",
   "execution_count": 12,
   "id": "906441f9",
   "metadata": {
    "hidden": true
   },
   "outputs": [
    {
     "data": {
      "text/html": [
       "<div>\n",
       "<style scoped>\n",
       "    .dataframe tbody tr th:only-of-type {\n",
       "        vertical-align: middle;\n",
       "    }\n",
       "\n",
       "    .dataframe tbody tr th {\n",
       "        vertical-align: top;\n",
       "    }\n",
       "\n",
       "    .dataframe thead th {\n",
       "        text-align: right;\n",
       "    }\n",
       "</style>\n",
       "<table border=\"1\" class=\"dataframe\">\n",
       "  <thead>\n",
       "    <tr style=\"text-align: right;\">\n",
       "      <th></th>\n",
       "      <th>대여소번호</th>\n",
       "      <th>보관소(대여소)명</th>\n",
       "      <th>소재지(위치)</th>\n",
       "      <th>상세주소</th>\n",
       "      <th>위도</th>\n",
       "      <th>경도</th>\n",
       "      <th>설치\\n시기</th>\n",
       "      <th>거치대수 LCD</th>\n",
       "      <th>거치대수 QR</th>\n",
       "      <th>운영\\n방식</th>\n",
       "    </tr>\n",
       "  </thead>\n",
       "  <tbody>\n",
       "    <tr>\n",
       "      <th>0</th>\n",
       "      <td>102</td>\n",
       "      <td>망원역 1번출구 앞</td>\n",
       "      <td>마포구</td>\n",
       "      <td>서울특별시 마포구 월드컵로 72</td>\n",
       "      <td>37.555649</td>\n",
       "      <td>126.910629</td>\n",
       "      <td>2015-09-06</td>\n",
       "      <td>20.0</td>\n",
       "      <td>NaN</td>\n",
       "      <td>LCD</td>\n",
       "    </tr>\n",
       "    <tr>\n",
       "      <th>1</th>\n",
       "      <td>103</td>\n",
       "      <td>망원역 2번출구 앞</td>\n",
       "      <td>마포구</td>\n",
       "      <td>서울특별시 마포구 월드컵로 79</td>\n",
       "      <td>37.554951</td>\n",
       "      <td>126.910835</td>\n",
       "      <td>2015-09-06</td>\n",
       "      <td>14.0</td>\n",
       "      <td>NaN</td>\n",
       "      <td>LCD</td>\n",
       "    </tr>\n",
       "    <tr>\n",
       "      <th>2</th>\n",
       "      <td>104</td>\n",
       "      <td>합정역 1번출구 앞</td>\n",
       "      <td>마포구</td>\n",
       "      <td>서울특별시 마포구 양화로 59</td>\n",
       "      <td>37.550629</td>\n",
       "      <td>126.914986</td>\n",
       "      <td>2015-09-06</td>\n",
       "      <td>13.0</td>\n",
       "      <td>NaN</td>\n",
       "      <td>LCD</td>\n",
       "    </tr>\n",
       "    <tr>\n",
       "      <th>3</th>\n",
       "      <td>105</td>\n",
       "      <td>합정역 5번출구 앞</td>\n",
       "      <td>마포구</td>\n",
       "      <td>서울특별시 마포구 양화로 48</td>\n",
       "      <td>37.550007</td>\n",
       "      <td>126.914825</td>\n",
       "      <td>2015-09-06</td>\n",
       "      <td>5.0</td>\n",
       "      <td>NaN</td>\n",
       "      <td>LCD</td>\n",
       "    </tr>\n",
       "    <tr>\n",
       "      <th>4</th>\n",
       "      <td>106</td>\n",
       "      <td>합정역 7번출구 앞</td>\n",
       "      <td>마포구</td>\n",
       "      <td>서울특별시 마포구 독막로 4</td>\n",
       "      <td>37.548645</td>\n",
       "      <td>126.912826</td>\n",
       "      <td>2015-09-06</td>\n",
       "      <td>10.0</td>\n",
       "      <td>NaN</td>\n",
       "      <td>LCD</td>\n",
       "    </tr>\n",
       "    <tr>\n",
       "      <th>...</th>\n",
       "      <td>...</td>\n",
       "      <td>...</td>\n",
       "      <td>...</td>\n",
       "      <td>...</td>\n",
       "      <td>...</td>\n",
       "      <td>...</td>\n",
       "      <td>...</td>\n",
       "      <td>...</td>\n",
       "      <td>...</td>\n",
       "      <td>...</td>\n",
       "    </tr>\n",
       "    <tr>\n",
       "      <th>2581</th>\n",
       "      <td>5070</td>\n",
       "      <td>마곡13단지힐스테이트마스터 후문(1320동 앞)</td>\n",
       "      <td>강서구</td>\n",
       "      <td>서울시 강서구 마곡중앙1로 71 마곡13단지힐스테이트마스터 후문 인근</td>\n",
       "      <td>37.556763</td>\n",
       "      <td>126.818695</td>\n",
       "      <td>2021-11-11</td>\n",
       "      <td>NaN</td>\n",
       "      <td>15.0</td>\n",
       "      <td>QR</td>\n",
       "    </tr>\n",
       "    <tr>\n",
       "      <th>2582</th>\n",
       "      <td>5072</td>\n",
       "      <td>김포공항입구 교통섬</td>\n",
       "      <td>강서구</td>\n",
       "      <td>공항동 74-5</td>\n",
       "      <td>37.561546</td>\n",
       "      <td>126.807083</td>\n",
       "      <td>2021-09-28</td>\n",
       "      <td>NaN</td>\n",
       "      <td>10.0</td>\n",
       "      <td>QR</td>\n",
       "    </tr>\n",
       "    <tr>\n",
       "      <th>2583</th>\n",
       "      <td>5073</td>\n",
       "      <td>우장산역 헤링턴타워 앞</td>\n",
       "      <td>강서구</td>\n",
       "      <td>화곡동 1013-3</td>\n",
       "      <td>37.546619</td>\n",
       "      <td>126.836235</td>\n",
       "      <td>2021-10-20</td>\n",
       "      <td>NaN</td>\n",
       "      <td>6.0</td>\n",
       "      <td>QR</td>\n",
       "    </tr>\n",
       "    <tr>\n",
       "      <th>2584</th>\n",
       "      <td>5074</td>\n",
       "      <td>마곡동 주니어마곡점앞</td>\n",
       "      <td>강서구</td>\n",
       "      <td>강서구 마곡동 798-17</td>\n",
       "      <td>37.558235</td>\n",
       "      <td>126.825760</td>\n",
       "      <td>2021-11-19</td>\n",
       "      <td>NaN</td>\n",
       "      <td>10.0</td>\n",
       "      <td>QR</td>\n",
       "    </tr>\n",
       "    <tr>\n",
       "      <th>2585</th>\n",
       "      <td>5075</td>\n",
       "      <td>템퍼 목동점</td>\n",
       "      <td>강서구</td>\n",
       "      <td>강서구 등촌동 649-14</td>\n",
       "      <td>37.551884</td>\n",
       "      <td>126.863571</td>\n",
       "      <td>2021-11-19</td>\n",
       "      <td>NaN</td>\n",
       "      <td>10.0</td>\n",
       "      <td>QR</td>\n",
       "    </tr>\n",
       "  </tbody>\n",
       "</table>\n",
       "<p>2586 rows × 10 columns</p>\n",
       "</div>"
      ],
      "text/plain": [
       "      대여소번호                   보관소(대여소)명 소재지(위치)  \\\n",
       "0       102                  망원역 1번출구 앞     마포구   \n",
       "1       103                  망원역 2번출구 앞     마포구   \n",
       "2       104                  합정역 1번출구 앞     마포구   \n",
       "3       105                  합정역 5번출구 앞     마포구   \n",
       "4       106                  합정역 7번출구 앞     마포구   \n",
       "...     ...                         ...     ...   \n",
       "2581   5070  마곡13단지힐스테이트마스터 후문(1320동 앞)     강서구   \n",
       "2582   5072                  김포공항입구 교통섬     강서구   \n",
       "2583   5073                우장산역 헤링턴타워 앞     강서구   \n",
       "2584   5074                 마곡동 주니어마곡점앞     강서구   \n",
       "2585   5075                      템퍼 목동점     강서구   \n",
       "\n",
       "                                        상세주소         위도          경도  \\\n",
       "0                          서울특별시 마포구 월드컵로 72  37.555649  126.910629   \n",
       "1                          서울특별시 마포구 월드컵로 79  37.554951  126.910835   \n",
       "2                           서울특별시 마포구 양화로 59  37.550629  126.914986   \n",
       "3                           서울특별시 마포구 양화로 48  37.550007  126.914825   \n",
       "4                            서울특별시 마포구 독막로 4  37.548645  126.912826   \n",
       "...                                      ...        ...         ...   \n",
       "2581  서울시 강서구 마곡중앙1로 71 마곡13단지힐스테이트마스터 후문 인근  37.556763  126.818695   \n",
       "2582                                공항동 74-5  37.561546  126.807083   \n",
       "2583                              화곡동 1013-3  37.546619  126.836235   \n",
       "2584                          강서구 마곡동 798-17  37.558235  126.825760   \n",
       "2585                          강서구 등촌동 649-14  37.551884  126.863571   \n",
       "\n",
       "          설치\\n시기  거치대수 LCD  거치대수 QR 운영\\n방식  \n",
       "0     2015-09-06      20.0      NaN    LCD  \n",
       "1     2015-09-06      14.0      NaN    LCD  \n",
       "2     2015-09-06      13.0      NaN    LCD  \n",
       "3     2015-09-06       5.0      NaN    LCD  \n",
       "4     2015-09-06      10.0      NaN    LCD  \n",
       "...          ...       ...      ...    ...  \n",
       "2581  2021-11-11       NaN     15.0     QR  \n",
       "2582  2021-09-28       NaN     10.0     QR  \n",
       "2583  2021-10-20       NaN      6.0     QR  \n",
       "2584  2021-11-19       NaN     10.0     QR  \n",
       "2585  2021-11-19       NaN     10.0     QR  \n",
       "\n",
       "[2586 rows x 10 columns]"
      ]
     },
     "execution_count": 12,
     "metadata": {},
     "output_type": "execute_result"
    }
   ],
   "source": [
    "import pandas as pd\n",
    "df=pd.read_csv('인재_공공자전거 대여소 정보(21.12월 기준).csv',encoding=\"cp949\")\n",
    "df"
   ]
  },
  {
   "cell_type": "code",
   "execution_count": 13,
   "id": "bcfdf063",
   "metadata": {
    "hidden": true
   },
   "outputs": [
    {
     "name": "stdout",
     "output_type": "stream",
     "text": [
      "<class 'pandas.core.frame.DataFrame'>\n",
      "RangeIndex: 2586 entries, 0 to 2585\n",
      "Data columns (total 10 columns):\n",
      " #   Column     Non-Null Count  Dtype  \n",
      "---  ------     --------------  -----  \n",
      " 0   대여소번호      2586 non-null   int64  \n",
      " 1   보관소(대여소)명  2586 non-null   object \n",
      " 2   소재지(위치)    2586 non-null   object \n",
      " 3   상세주소       2586 non-null   object \n",
      " 4   위도         2586 non-null   float64\n",
      " 5   경도         2586 non-null   float64\n",
      " 6   설치\n",
      "시기      2586 non-null   object \n",
      " 7   거치대수 LCD   1400 non-null   float64\n",
      " 8   거치대수 QR    1187 non-null   float64\n",
      " 9   운영\n",
      "방식      2586 non-null   object \n",
      "dtypes: float64(4), int64(1), object(5)\n",
      "memory usage: 202.2+ KB\n"
     ]
    }
   ],
   "source": [
    "df.info()"
   ]
  },
  {
   "cell_type": "markdown",
   "id": "bcfb4e01",
   "metadata": {
    "hidden": true
   },
   "source": [
    "* 열 이름 중 \\n 들어가있는거 수정\n",
    "* 결측치 0으로 대치\n",
    "* 거치대수 int로\n",
    "* 운영방식은 보니까 LCD,QR 겹치는 것 없어서 열 삭제"
   ]
  },
  {
   "cell_type": "markdown",
   "id": "96fe411b",
   "metadata": {},
   "source": [
    "# 전처리"
   ]
  },
  {
   "cell_type": "markdown",
   "id": "ca572131",
   "metadata": {
    "heading_collapsed": true
   },
   "source": [
    "##  열 이름 다듬기"
   ]
  },
  {
   "cell_type": "code",
   "execution_count": 14,
   "id": "17b22c8e",
   "metadata": {
    "hidden": true
   },
   "outputs": [
    {
     "data": {
      "text/plain": [
       "Index(['대여소번호', '보관소(대여소)명', '소재지(위치)', '상세주소', '위도', '경도', '설치\\n시기',\n",
       "       '거치대수 LCD', '거치대수 QR', '운영\\n방식'],\n",
       "      dtype='object')"
      ]
     },
     "execution_count": 14,
     "metadata": {},
     "output_type": "execute_result"
    }
   ],
   "source": [
    "df.columns"
   ]
  },
  {
   "cell_type": "code",
   "execution_count": 15,
   "id": "8202cc01",
   "metadata": {
    "hidden": true
   },
   "outputs": [],
   "source": [
    "df.columns= ['대여소번호', '보관소(대여소)명', '소재지(위치)', '상세주소', '위도', '경도', '설치시기',\n",
    "       '거치대수 LCD', '거치대수 QR', '운영방식']"
   ]
  },
  {
   "cell_type": "code",
   "execution_count": 16,
   "id": "3a478467",
   "metadata": {
    "hidden": true
   },
   "outputs": [
    {
     "data": {
      "text/html": [
       "<div>\n",
       "<style scoped>\n",
       "    .dataframe tbody tr th:only-of-type {\n",
       "        vertical-align: middle;\n",
       "    }\n",
       "\n",
       "    .dataframe tbody tr th {\n",
       "        vertical-align: top;\n",
       "    }\n",
       "\n",
       "    .dataframe thead th {\n",
       "        text-align: right;\n",
       "    }\n",
       "</style>\n",
       "<table border=\"1\" class=\"dataframe\">\n",
       "  <thead>\n",
       "    <tr style=\"text-align: right;\">\n",
       "      <th></th>\n",
       "      <th>대여소번호</th>\n",
       "      <th>보관소(대여소)명</th>\n",
       "      <th>소재지(위치)</th>\n",
       "      <th>상세주소</th>\n",
       "      <th>위도</th>\n",
       "      <th>경도</th>\n",
       "      <th>설치시기</th>\n",
       "      <th>거치대수 LCD</th>\n",
       "      <th>거치대수 QR</th>\n",
       "      <th>운영방식</th>\n",
       "    </tr>\n",
       "  </thead>\n",
       "  <tbody>\n",
       "    <tr>\n",
       "      <th>0</th>\n",
       "      <td>102</td>\n",
       "      <td>망원역 1번출구 앞</td>\n",
       "      <td>마포구</td>\n",
       "      <td>서울특별시 마포구 월드컵로 72</td>\n",
       "      <td>37.555649</td>\n",
       "      <td>126.910629</td>\n",
       "      <td>2015-09-06</td>\n",
       "      <td>20.0</td>\n",
       "      <td>NaN</td>\n",
       "      <td>LCD</td>\n",
       "    </tr>\n",
       "    <tr>\n",
       "      <th>1</th>\n",
       "      <td>103</td>\n",
       "      <td>망원역 2번출구 앞</td>\n",
       "      <td>마포구</td>\n",
       "      <td>서울특별시 마포구 월드컵로 79</td>\n",
       "      <td>37.554951</td>\n",
       "      <td>126.910835</td>\n",
       "      <td>2015-09-06</td>\n",
       "      <td>14.0</td>\n",
       "      <td>NaN</td>\n",
       "      <td>LCD</td>\n",
       "    </tr>\n",
       "    <tr>\n",
       "      <th>2</th>\n",
       "      <td>104</td>\n",
       "      <td>합정역 1번출구 앞</td>\n",
       "      <td>마포구</td>\n",
       "      <td>서울특별시 마포구 양화로 59</td>\n",
       "      <td>37.550629</td>\n",
       "      <td>126.914986</td>\n",
       "      <td>2015-09-06</td>\n",
       "      <td>13.0</td>\n",
       "      <td>NaN</td>\n",
       "      <td>LCD</td>\n",
       "    </tr>\n",
       "    <tr>\n",
       "      <th>3</th>\n",
       "      <td>105</td>\n",
       "      <td>합정역 5번출구 앞</td>\n",
       "      <td>마포구</td>\n",
       "      <td>서울특별시 마포구 양화로 48</td>\n",
       "      <td>37.550007</td>\n",
       "      <td>126.914825</td>\n",
       "      <td>2015-09-06</td>\n",
       "      <td>5.0</td>\n",
       "      <td>NaN</td>\n",
       "      <td>LCD</td>\n",
       "    </tr>\n",
       "    <tr>\n",
       "      <th>4</th>\n",
       "      <td>106</td>\n",
       "      <td>합정역 7번출구 앞</td>\n",
       "      <td>마포구</td>\n",
       "      <td>서울특별시 마포구 독막로 4</td>\n",
       "      <td>37.548645</td>\n",
       "      <td>126.912826</td>\n",
       "      <td>2015-09-06</td>\n",
       "      <td>10.0</td>\n",
       "      <td>NaN</td>\n",
       "      <td>LCD</td>\n",
       "    </tr>\n",
       "  </tbody>\n",
       "</table>\n",
       "</div>"
      ],
      "text/plain": [
       "   대여소번호   보관소(대여소)명 소재지(위치)               상세주소         위도          경도  \\\n",
       "0    102  망원역 1번출구 앞     마포구  서울특별시 마포구 월드컵로 72  37.555649  126.910629   \n",
       "1    103  망원역 2번출구 앞     마포구  서울특별시 마포구 월드컵로 79  37.554951  126.910835   \n",
       "2    104  합정역 1번출구 앞     마포구   서울특별시 마포구 양화로 59  37.550629  126.914986   \n",
       "3    105  합정역 5번출구 앞     마포구   서울특별시 마포구 양화로 48  37.550007  126.914825   \n",
       "4    106  합정역 7번출구 앞     마포구    서울특별시 마포구 독막로 4  37.548645  126.912826   \n",
       "\n",
       "         설치시기  거치대수 LCD  거치대수 QR 운영방식  \n",
       "0  2015-09-06      20.0      NaN  LCD  \n",
       "1  2015-09-06      14.0      NaN  LCD  \n",
       "2  2015-09-06      13.0      NaN  LCD  \n",
       "3  2015-09-06       5.0      NaN  LCD  \n",
       "4  2015-09-06      10.0      NaN  LCD  "
      ]
     },
     "execution_count": 16,
     "metadata": {},
     "output_type": "execute_result"
    }
   ],
   "source": [
    "df.head()"
   ]
  },
  {
   "cell_type": "markdown",
   "id": "e1713ade",
   "metadata": {
    "heading_collapsed": true
   },
   "source": [
    "## 결측치는 0으로 대치"
   ]
  },
  {
   "cell_type": "code",
   "execution_count": 18,
   "id": "c4303746",
   "metadata": {
    "hidden": true
   },
   "outputs": [
    {
     "data": {
      "text/plain": [
       "대여소번호           0\n",
       "보관소(대여소)명       0\n",
       "소재지(위치)         0\n",
       "상세주소            0\n",
       "위도              0\n",
       "경도              0\n",
       "설치시기            0\n",
       "거치대수 LCD     1186\n",
       "거치대수 QR      1399\n",
       "운영방식            0\n",
       "dtype: int64"
      ]
     },
     "execution_count": 18,
     "metadata": {},
     "output_type": "execute_result"
    }
   ],
   "source": [
    "df.isnull().sum()"
   ]
  },
  {
   "cell_type": "code",
   "execution_count": 20,
   "id": "634e0b4b",
   "metadata": {
    "hidden": true
   },
   "outputs": [],
   "source": [
    "import numpy as np\n",
    "df[\"거치대수 LCD\"].replace(np.nan, 0, inplace=True)\n",
    "df[\"거치대수 QR\"].replace(np.nan, 0, inplace=True)"
   ]
  },
  {
   "cell_type": "markdown",
   "id": "af685c53",
   "metadata": {
    "heading_collapsed": true
   },
   "source": [
    "## 거치대수 int로"
   ]
  },
  {
   "cell_type": "code",
   "execution_count": 22,
   "id": "2b1cc6b3",
   "metadata": {
    "hidden": true
   },
   "outputs": [
    {
     "name": "stdout",
     "output_type": "stream",
     "text": [
      "<class 'pandas.core.frame.DataFrame'>\n",
      "RangeIndex: 2586 entries, 0 to 2585\n",
      "Data columns (total 2 columns):\n",
      " #   Column    Non-Null Count  Dtype  \n",
      "---  ------    --------------  -----  \n",
      " 0   거치대수 LCD  2586 non-null   float64\n",
      " 1   거치대수 QR   2586 non-null   float64\n",
      "dtypes: float64(2)\n",
      "memory usage: 40.5 KB\n"
     ]
    }
   ],
   "source": [
    "df[[\"거치대수 LCD\",\"거치대수 QR\"]].info()"
   ]
  },
  {
   "cell_type": "code",
   "execution_count": 24,
   "id": "7966b243",
   "metadata": {
    "hidden": true
   },
   "outputs": [],
   "source": [
    "df[\"거치대수 LCD\"]= df[\"거치대수 LCD\"].astype(\"int\")\n",
    "df[\"거치대수 QR\"]= df[\"거치대수 QR\"].astype(\"int\")"
   ]
  },
  {
   "cell_type": "code",
   "execution_count": 25,
   "id": "ca12477a",
   "metadata": {
    "hidden": true
   },
   "outputs": [
    {
     "name": "stdout",
     "output_type": "stream",
     "text": [
      "<class 'pandas.core.frame.DataFrame'>\n",
      "RangeIndex: 2586 entries, 0 to 2585\n",
      "Data columns (total 2 columns):\n",
      " #   Column    Non-Null Count  Dtype\n",
      "---  ------    --------------  -----\n",
      " 0   거치대수 LCD  2586 non-null   int32\n",
      " 1   거치대수 QR   2586 non-null   int32\n",
      "dtypes: int32(2)\n",
      "memory usage: 20.3 KB\n"
     ]
    }
   ],
   "source": [
    "df[[\"거치대수 LCD\",\"거치대수 QR\"]].info()"
   ]
  },
  {
   "cell_type": "markdown",
   "id": "e02a6695",
   "metadata": {
    "heading_collapsed": true
   },
   "source": [
    "## 필요없는 열 정리"
   ]
  },
  {
   "cell_type": "code",
   "execution_count": 26,
   "id": "1f42618c",
   "metadata": {
    "hidden": true
   },
   "outputs": [
    {
     "data": {
      "text/plain": [
       "array(['LCD', 'QR'], dtype=object)"
      ]
     },
     "execution_count": 26,
     "metadata": {},
     "output_type": "execute_result"
    }
   ],
   "source": [
    "df.운영방식.unique()"
   ]
  },
  {
   "cell_type": "code",
   "execution_count": 27,
   "id": "c072bbe5",
   "metadata": {
    "hidden": true
   },
   "outputs": [],
   "source": [
    "df.drop(\"운영방식\", axis=1, inplace=True)"
   ]
  },
  {
   "cell_type": "code",
   "execution_count": 28,
   "id": "de4a33ec",
   "metadata": {
    "hidden": true
   },
   "outputs": [
    {
     "data": {
      "text/html": [
       "<div>\n",
       "<style scoped>\n",
       "    .dataframe tbody tr th:only-of-type {\n",
       "        vertical-align: middle;\n",
       "    }\n",
       "\n",
       "    .dataframe tbody tr th {\n",
       "        vertical-align: top;\n",
       "    }\n",
       "\n",
       "    .dataframe thead th {\n",
       "        text-align: right;\n",
       "    }\n",
       "</style>\n",
       "<table border=\"1\" class=\"dataframe\">\n",
       "  <thead>\n",
       "    <tr style=\"text-align: right;\">\n",
       "      <th></th>\n",
       "      <th>대여소번호</th>\n",
       "      <th>보관소(대여소)명</th>\n",
       "      <th>소재지(위치)</th>\n",
       "      <th>상세주소</th>\n",
       "      <th>위도</th>\n",
       "      <th>경도</th>\n",
       "      <th>설치시기</th>\n",
       "      <th>거치대수 LCD</th>\n",
       "      <th>거치대수 QR</th>\n",
       "    </tr>\n",
       "  </thead>\n",
       "  <tbody>\n",
       "    <tr>\n",
       "      <th>0</th>\n",
       "      <td>102</td>\n",
       "      <td>망원역 1번출구 앞</td>\n",
       "      <td>마포구</td>\n",
       "      <td>서울특별시 마포구 월드컵로 72</td>\n",
       "      <td>37.555649</td>\n",
       "      <td>126.910629</td>\n",
       "      <td>2015-09-06</td>\n",
       "      <td>20</td>\n",
       "      <td>0</td>\n",
       "    </tr>\n",
       "    <tr>\n",
       "      <th>1</th>\n",
       "      <td>103</td>\n",
       "      <td>망원역 2번출구 앞</td>\n",
       "      <td>마포구</td>\n",
       "      <td>서울특별시 마포구 월드컵로 79</td>\n",
       "      <td>37.554951</td>\n",
       "      <td>126.910835</td>\n",
       "      <td>2015-09-06</td>\n",
       "      <td>14</td>\n",
       "      <td>0</td>\n",
       "    </tr>\n",
       "    <tr>\n",
       "      <th>2</th>\n",
       "      <td>104</td>\n",
       "      <td>합정역 1번출구 앞</td>\n",
       "      <td>마포구</td>\n",
       "      <td>서울특별시 마포구 양화로 59</td>\n",
       "      <td>37.550629</td>\n",
       "      <td>126.914986</td>\n",
       "      <td>2015-09-06</td>\n",
       "      <td>13</td>\n",
       "      <td>0</td>\n",
       "    </tr>\n",
       "    <tr>\n",
       "      <th>3</th>\n",
       "      <td>105</td>\n",
       "      <td>합정역 5번출구 앞</td>\n",
       "      <td>마포구</td>\n",
       "      <td>서울특별시 마포구 양화로 48</td>\n",
       "      <td>37.550007</td>\n",
       "      <td>126.914825</td>\n",
       "      <td>2015-09-06</td>\n",
       "      <td>5</td>\n",
       "      <td>0</td>\n",
       "    </tr>\n",
       "    <tr>\n",
       "      <th>4</th>\n",
       "      <td>106</td>\n",
       "      <td>합정역 7번출구 앞</td>\n",
       "      <td>마포구</td>\n",
       "      <td>서울특별시 마포구 독막로 4</td>\n",
       "      <td>37.548645</td>\n",
       "      <td>126.912826</td>\n",
       "      <td>2015-09-06</td>\n",
       "      <td>10</td>\n",
       "      <td>0</td>\n",
       "    </tr>\n",
       "  </tbody>\n",
       "</table>\n",
       "</div>"
      ],
      "text/plain": [
       "   대여소번호   보관소(대여소)명 소재지(위치)               상세주소         위도          경도  \\\n",
       "0    102  망원역 1번출구 앞     마포구  서울특별시 마포구 월드컵로 72  37.555649  126.910629   \n",
       "1    103  망원역 2번출구 앞     마포구  서울특별시 마포구 월드컵로 79  37.554951  126.910835   \n",
       "2    104  합정역 1번출구 앞     마포구   서울특별시 마포구 양화로 59  37.550629  126.914986   \n",
       "3    105  합정역 5번출구 앞     마포구   서울특별시 마포구 양화로 48  37.550007  126.914825   \n",
       "4    106  합정역 7번출구 앞     마포구    서울특별시 마포구 독막로 4  37.548645  126.912826   \n",
       "\n",
       "         설치시기  거치대수 LCD  거치대수 QR  \n",
       "0  2015-09-06        20        0  \n",
       "1  2015-09-06        14        0  \n",
       "2  2015-09-06        13        0  \n",
       "3  2015-09-06         5        0  \n",
       "4  2015-09-06        10        0  "
      ]
     },
     "execution_count": 28,
     "metadata": {},
     "output_type": "execute_result"
    }
   ],
   "source": [
    "df.head()"
   ]
  },
  {
   "cell_type": "markdown",
   "id": "bb574dbc",
   "metadata": {
    "heading_collapsed": true
   },
   "source": [
    "# 데이터 내보내기"
   ]
  },
  {
   "cell_type": "code",
   "execution_count": 29,
   "id": "b1491cbc",
   "metadata": {
    "hidden": true
   },
   "outputs": [],
   "source": [
    "df.to_csv(\"최종_공공자전거 대여소 정보(21.12월 기준).csv\", encoding=\"utf-8\")"
   ]
  },
  {
   "cell_type": "code",
   "execution_count": 30,
   "id": "dd1ff3f1",
   "metadata": {
    "hidden": true
   },
   "outputs": [
    {
     "data": {
      "text/plain": [
       "['.ipynb_checkpoints',\n",
       " 'Untitled.ipynb',\n",
       " '공공자전거 대여소 정보(21.12월 기준).csv',\n",
       " '서울특별시_공공자전거_대여소정보.csv',\n",
       " '원본_서울특별시 공공자전거 대여소별 이용정보(월간)_2017_1_12.csv',\n",
       " '인재_공공자전거 대여소 정보(21.12월 기준).csv',\n",
       " '최종_공공자전거 대여소 정보(21.12월 기준).csv']"
      ]
     },
     "execution_count": 30,
     "metadata": {},
     "output_type": "execute_result"
    }
   ],
   "source": [
    "import os\n",
    "os.listdir()"
   ]
  },
  {
   "cell_type": "code",
   "execution_count": null,
   "id": "41db38a6",
   "metadata": {
    "hidden": true
   },
   "outputs": [],
   "source": []
  }
 ],
 "metadata": {
  "kernelspec": {
   "display_name": "Python 3 (ipykernel)",
   "language": "python",
   "name": "python3"
  },
  "language_info": {
   "codemirror_mode": {
    "name": "ipython",
    "version": 3
   },
   "file_extension": ".py",
   "mimetype": "text/x-python",
   "name": "python",
   "nbconvert_exporter": "python",
   "pygments_lexer": "ipython3",
   "version": "3.9.7"
  },
  "toc": {
   "base_numbering": 1,
   "nav_menu": {},
   "number_sections": true,
   "sideBar": true,
   "skip_h1_title": false,
   "title_cell": "Table of Contents",
   "title_sidebar": "Contents",
   "toc_cell": false,
   "toc_position": {},
   "toc_section_display": true,
   "toc_window_display": false
  }
 },
 "nbformat": 4,
 "nbformat_minor": 5
}
